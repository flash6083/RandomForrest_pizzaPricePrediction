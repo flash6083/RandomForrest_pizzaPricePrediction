{
 "cells": [
  {
   "cell_type": "markdown",
   "id": "d5a81abe",
   "metadata": {},
   "source": [
    "### Pizza Price Prediction Model\n",
    "\n",
    "Dataset used: Kaggle pizza dataset\n",
    "\n",
    "Contributed by Sayak Bhattacharya \n",
    "\n",
    "Github [GDSC TMSL ML Study Jam 2022](https://github.com/GDSC-TMSL/ML-Study-Jams/tree/main/ML%20Study%20Jam%20Day%201) \n"
   ]
  },
  {
   "cell_type": "markdown",
   "id": "0eae99fe",
   "metadata": {},
   "source": [
    "# Objective\n",
    "Create a machine learning model using linear regression or decision tree or random forest and Kaggle Pizza dataset to predict the price of Pizza with various toppings and other added factors"
   ]
  },
  {
   "cell_type": "markdown",
   "id": "ec218149",
   "metadata": {},
   "source": [
    "# ML Overview\n",
    "\n",
    "Machine learning is a branch of artificial intelligence that enables computers to learn and adapt similar to how humans learn. It is the ability of a machine to detect patterns in data and learn from it so as to be able to take action accordingly. Machine learning algorithms are trained on datasets so they can make ‘informed’ decisions based on the information they have learned. This project covers an overview of what machine learning is, its types and examples of use cases for businesses.\n",
    "\n",
    "In this project we will use supervised learning (a branch of machine learning where we teach our model with well-labelled data).\n",
    "We will start with a simple Linear Regressesion model and predict the target variable, and then move forward with the comparison between other similar models."
   ]
  },
  {
   "cell_type": "markdown",
   "id": "846e3bc2",
   "metadata": {},
   "source": [
    "## Project Pipeline\n",
    "\n",
    "* Cleaning our data and making it suitable for our ML model.\n",
    "* Data exploration and analysis to study our dataset.\n",
    "* Creating a simple model using linear regression.\n",
    "* Using the model to carryout prediction and evaluating it's efficiency."
   ]
  },
  {
   "cell_type": "markdown",
   "id": "3f015d17",
   "metadata": {},
   "source": [
    "# Requirements\n",
    "\n",
    "Import the mentioned libraries:\n",
    "\n",
    "- Numpy\n",
    "\n",
    "- Pandas\n",
    "\n",
    "- Sklearn\n",
    "\n",
    "- matplotlib.plt\n",
    "\n",
    "- Seaborn\n",
    "\n",
    "Import Kaggle Pizza dataset from the provided csv file using pandas"
   ]
  },
  {
   "cell_type": "code",
   "execution_count": 1,
   "id": "f64cd3a4",
   "metadata": {},
   "outputs": [],
   "source": [
    "import pandas as pd  \n",
    "import numpy as np  \n",
    "import matplotlib.pyplot as plt  \n",
    "import seaborn as sns\n",
    "from sklearn.linear_model import LinearRegression"
   ]
  },
  {
   "cell_type": "code",
   "execution_count": 2,
   "id": "34297e8b",
   "metadata": {},
   "outputs": [],
   "source": [
    " # This statement provides with the automatic plt.show() function with each matplotlib line\n",
    "%matplotlib inline"
   ]
  },
  {
   "cell_type": "markdown",
   "id": "912d11bb",
   "metadata": {},
   "source": [
    "### Data Loading"
   ]
  },
  {
   "cell_type": "code",
   "execution_count": 3,
   "id": "7d2ce0b3",
   "metadata": {},
   "outputs": [],
   "source": [
    "pizza = pd.read_csv('pizza_v2.csv')"
   ]
  },
  {
   "cell_type": "code",
   "execution_count": 4,
   "id": "310d1537",
   "metadata": {},
   "outputs": [
    {
     "data": {
      "text/html": [
       "<div>\n",
       "<style scoped>\n",
       "    .dataframe tbody tr th:only-of-type {\n",
       "        vertical-align: middle;\n",
       "    }\n",
       "\n",
       "    .dataframe tbody tr th {\n",
       "        vertical-align: top;\n",
       "    }\n",
       "\n",
       "    .dataframe thead th {\n",
       "        text-align: right;\n",
       "    }\n",
       "</style>\n",
       "<table border=\"1\" class=\"dataframe\">\n",
       "  <thead>\n",
       "    <tr style=\"text-align: right;\">\n",
       "      <th></th>\n",
       "      <th>company</th>\n",
       "      <th>price_rupiah</th>\n",
       "      <th>diameter</th>\n",
       "      <th>topping</th>\n",
       "      <th>variant</th>\n",
       "      <th>size</th>\n",
       "      <th>extra_sauce</th>\n",
       "      <th>extra_cheese</th>\n",
       "      <th>extra_mushrooms</th>\n",
       "    </tr>\n",
       "  </thead>\n",
       "  <tbody>\n",
       "    <tr>\n",
       "      <th>0</th>\n",
       "      <td>A</td>\n",
       "      <td>Rp235,000</td>\n",
       "      <td>22 inch</td>\n",
       "      <td>chicken</td>\n",
       "      <td>double_signature</td>\n",
       "      <td>jumbo</td>\n",
       "      <td>yes</td>\n",
       "      <td>yes</td>\n",
       "      <td>no</td>\n",
       "    </tr>\n",
       "    <tr>\n",
       "      <th>1</th>\n",
       "      <td>A</td>\n",
       "      <td>Rp198,000</td>\n",
       "      <td>20 inch</td>\n",
       "      <td>papperoni</td>\n",
       "      <td>double_signature</td>\n",
       "      <td>jumbo</td>\n",
       "      <td>yes</td>\n",
       "      <td>yes</td>\n",
       "      <td>no</td>\n",
       "    </tr>\n",
       "    <tr>\n",
       "      <th>2</th>\n",
       "      <td>A</td>\n",
       "      <td>Rp120,000</td>\n",
       "      <td>16 inch</td>\n",
       "      <td>mushrooms</td>\n",
       "      <td>double_signature</td>\n",
       "      <td>reguler</td>\n",
       "      <td>yes</td>\n",
       "      <td>yes</td>\n",
       "      <td>yes</td>\n",
       "    </tr>\n",
       "    <tr>\n",
       "      <th>3</th>\n",
       "      <td>A</td>\n",
       "      <td>Rp155,000</td>\n",
       "      <td>14 inch</td>\n",
       "      <td>smoked_beef</td>\n",
       "      <td>double_signature</td>\n",
       "      <td>reguler</td>\n",
       "      <td>yes</td>\n",
       "      <td>no</td>\n",
       "      <td>yes</td>\n",
       "    </tr>\n",
       "    <tr>\n",
       "      <th>4</th>\n",
       "      <td>A</td>\n",
       "      <td>Rp248,000</td>\n",
       "      <td>18 inch</td>\n",
       "      <td>mozzarella</td>\n",
       "      <td>double_signature</td>\n",
       "      <td>jumbo</td>\n",
       "      <td>yes</td>\n",
       "      <td>no</td>\n",
       "      <td>yes</td>\n",
       "    </tr>\n",
       "    <tr>\n",
       "      <th>...</th>\n",
       "      <td>...</td>\n",
       "      <td>...</td>\n",
       "      <td>...</td>\n",
       "      <td>...</td>\n",
       "      <td>...</td>\n",
       "      <td>...</td>\n",
       "      <td>...</td>\n",
       "      <td>...</td>\n",
       "      <td>...</td>\n",
       "    </tr>\n",
       "    <tr>\n",
       "      <th>124</th>\n",
       "      <td>E</td>\n",
       "      <td>Rp39,000</td>\n",
       "      <td>8.5 inch</td>\n",
       "      <td>tuna</td>\n",
       "      <td>spicy tuna</td>\n",
       "      <td>small</td>\n",
       "      <td>yes</td>\n",
       "      <td>yes</td>\n",
       "      <td>yes</td>\n",
       "    </tr>\n",
       "    <tr>\n",
       "      <th>125</th>\n",
       "      <td>E</td>\n",
       "      <td>Rp72,000</td>\n",
       "      <td>12 inch</td>\n",
       "      <td>tuna</td>\n",
       "      <td>spicy tuna</td>\n",
       "      <td>medium</td>\n",
       "      <td>yes</td>\n",
       "      <td>yes</td>\n",
       "      <td>yes</td>\n",
       "    </tr>\n",
       "    <tr>\n",
       "      <th>126</th>\n",
       "      <td>E</td>\n",
       "      <td>Rp99,000</td>\n",
       "      <td>14 inch</td>\n",
       "      <td>tuna</td>\n",
       "      <td>spicy tuna</td>\n",
       "      <td>large</td>\n",
       "      <td>yes</td>\n",
       "      <td>yes</td>\n",
       "      <td>yes</td>\n",
       "    </tr>\n",
       "    <tr>\n",
       "      <th>127</th>\n",
       "      <td>E</td>\n",
       "      <td>Rp44,000</td>\n",
       "      <td>8.5 inch</td>\n",
       "      <td>meat</td>\n",
       "      <td>BBQ_meat_fiesta</td>\n",
       "      <td>small</td>\n",
       "      <td>yes</td>\n",
       "      <td>no</td>\n",
       "      <td>yes</td>\n",
       "    </tr>\n",
       "    <tr>\n",
       "      <th>128</th>\n",
       "      <td>E</td>\n",
       "      <td>Rp78,000</td>\n",
       "      <td>12 inch</td>\n",
       "      <td>meat</td>\n",
       "      <td>BBQ_meat_fiesta</td>\n",
       "      <td>medium</td>\n",
       "      <td>no</td>\n",
       "      <td>no</td>\n",
       "      <td>yes</td>\n",
       "    </tr>\n",
       "  </tbody>\n",
       "</table>\n",
       "<p>129 rows × 9 columns</p>\n",
       "</div>"
      ],
      "text/plain": [
       "    company price_rupiah  diameter      topping           variant     size  \\\n",
       "0         A    Rp235,000   22 inch      chicken  double_signature    jumbo   \n",
       "1         A    Rp198,000   20 inch    papperoni  double_signature    jumbo   \n",
       "2         A    Rp120,000   16 inch    mushrooms  double_signature  reguler   \n",
       "3         A    Rp155,000   14 inch  smoked_beef  double_signature  reguler   \n",
       "4         A    Rp248,000   18 inch   mozzarella  double_signature    jumbo   \n",
       "..      ...          ...       ...          ...               ...      ...   \n",
       "124       E     Rp39,000  8.5 inch         tuna        spicy tuna    small   \n",
       "125       E     Rp72,000   12 inch         tuna        spicy tuna   medium   \n",
       "126       E     Rp99,000   14 inch         tuna        spicy tuna    large   \n",
       "127       E     Rp44,000  8.5 inch         meat   BBQ_meat_fiesta    small   \n",
       "128       E     Rp78,000   12 inch         meat   BBQ_meat_fiesta   medium   \n",
       "\n",
       "    extra_sauce extra_cheese extra_mushrooms  \n",
       "0           yes          yes              no  \n",
       "1           yes          yes              no  \n",
       "2           yes          yes             yes  \n",
       "3           yes           no             yes  \n",
       "4           yes           no             yes  \n",
       "..          ...          ...             ...  \n",
       "124         yes          yes             yes  \n",
       "125         yes          yes             yes  \n",
       "126         yes          yes             yes  \n",
       "127         yes           no             yes  \n",
       "128          no           no             yes  \n",
       "\n",
       "[129 rows x 9 columns]"
      ]
     },
     "execution_count": 4,
     "metadata": {},
     "output_type": "execute_result"
    }
   ],
   "source": [
    "pizza"
   ]
  },
  {
   "cell_type": "markdown",
   "id": "62d80f02",
   "metadata": {},
   "source": [
    "### Data Exploration\n",
    "\n",
    "### Assigned Tasks\n",
    "\n",
    "1. Use functions `head()` and `tail()` to see first and last five rows of the created dataframe.\n",
    "\n",
    "2. Use `describe()` to get even further insights on the created data frame.\n",
    "\n",
    "3. Use python functions to remove the \"Rp\" before the price of the Pizza in the price_rupiah column and \"inch\" from the end of diameter column\n",
    "\n",
    "4. Use `df.dtype` or `df.info` to know data type various features present in the dataset. If we find categorical data, then we'll require to use different encoding methods.\n",
    "\n",
    "5. Use `df.isnull().sum()` to check for missing values in each column. If we find missing values, then either we will place values there or we can drop the row or column.\n",
    "\n",
    "6. Create a heatmap using seaborn to find corelation between different features and labels. In model creation we will be using features having a high corelation with our target label.\n",
    "\n",
    "7. Create KDE plot of different variables using seaborn library."
   ]
  },
  {
   "cell_type": "code",
   "execution_count": 5,
   "id": "0948c562",
   "metadata": {},
   "outputs": [
    {
     "data": {
      "text/html": [
       "<div>\n",
       "<style scoped>\n",
       "    .dataframe tbody tr th:only-of-type {\n",
       "        vertical-align: middle;\n",
       "    }\n",
       "\n",
       "    .dataframe tbody tr th {\n",
       "        vertical-align: top;\n",
       "    }\n",
       "\n",
       "    .dataframe thead th {\n",
       "        text-align: right;\n",
       "    }\n",
       "</style>\n",
       "<table border=\"1\" class=\"dataframe\">\n",
       "  <thead>\n",
       "    <tr style=\"text-align: right;\">\n",
       "      <th></th>\n",
       "      <th>company</th>\n",
       "      <th>price_rupiah</th>\n",
       "      <th>diameter</th>\n",
       "      <th>topping</th>\n",
       "      <th>variant</th>\n",
       "      <th>size</th>\n",
       "      <th>extra_sauce</th>\n",
       "      <th>extra_cheese</th>\n",
       "      <th>extra_mushrooms</th>\n",
       "    </tr>\n",
       "  </thead>\n",
       "  <tbody>\n",
       "    <tr>\n",
       "      <th>0</th>\n",
       "      <td>A</td>\n",
       "      <td>Rp235,000</td>\n",
       "      <td>22 inch</td>\n",
       "      <td>chicken</td>\n",
       "      <td>double_signature</td>\n",
       "      <td>jumbo</td>\n",
       "      <td>yes</td>\n",
       "      <td>yes</td>\n",
       "      <td>no</td>\n",
       "    </tr>\n",
       "    <tr>\n",
       "      <th>1</th>\n",
       "      <td>A</td>\n",
       "      <td>Rp198,000</td>\n",
       "      <td>20 inch</td>\n",
       "      <td>papperoni</td>\n",
       "      <td>double_signature</td>\n",
       "      <td>jumbo</td>\n",
       "      <td>yes</td>\n",
       "      <td>yes</td>\n",
       "      <td>no</td>\n",
       "    </tr>\n",
       "    <tr>\n",
       "      <th>2</th>\n",
       "      <td>A</td>\n",
       "      <td>Rp120,000</td>\n",
       "      <td>16 inch</td>\n",
       "      <td>mushrooms</td>\n",
       "      <td>double_signature</td>\n",
       "      <td>reguler</td>\n",
       "      <td>yes</td>\n",
       "      <td>yes</td>\n",
       "      <td>yes</td>\n",
       "    </tr>\n",
       "    <tr>\n",
       "      <th>3</th>\n",
       "      <td>A</td>\n",
       "      <td>Rp155,000</td>\n",
       "      <td>14 inch</td>\n",
       "      <td>smoked_beef</td>\n",
       "      <td>double_signature</td>\n",
       "      <td>reguler</td>\n",
       "      <td>yes</td>\n",
       "      <td>no</td>\n",
       "      <td>yes</td>\n",
       "    </tr>\n",
       "    <tr>\n",
       "      <th>4</th>\n",
       "      <td>A</td>\n",
       "      <td>Rp248,000</td>\n",
       "      <td>18 inch</td>\n",
       "      <td>mozzarella</td>\n",
       "      <td>double_signature</td>\n",
       "      <td>jumbo</td>\n",
       "      <td>yes</td>\n",
       "      <td>no</td>\n",
       "      <td>yes</td>\n",
       "    </tr>\n",
       "  </tbody>\n",
       "</table>\n",
       "</div>"
      ],
      "text/plain": [
       "  company price_rupiah diameter      topping           variant     size  \\\n",
       "0       A    Rp235,000  22 inch      chicken  double_signature    jumbo   \n",
       "1       A    Rp198,000  20 inch    papperoni  double_signature    jumbo   \n",
       "2       A    Rp120,000  16 inch    mushrooms  double_signature  reguler   \n",
       "3       A    Rp155,000  14 inch  smoked_beef  double_signature  reguler   \n",
       "4       A    Rp248,000  18 inch   mozzarella  double_signature    jumbo   \n",
       "\n",
       "  extra_sauce extra_cheese extra_mushrooms  \n",
       "0         yes          yes              no  \n",
       "1         yes          yes              no  \n",
       "2         yes          yes             yes  \n",
       "3         yes           no             yes  \n",
       "4         yes           no             yes  "
      ]
     },
     "execution_count": 5,
     "metadata": {},
     "output_type": "execute_result"
    }
   ],
   "source": [
    "pizza.head()"
   ]
  },
  {
   "cell_type": "code",
   "execution_count": 6,
   "id": "70049f78",
   "metadata": {},
   "outputs": [
    {
     "data": {
      "text/html": [
       "<div>\n",
       "<style scoped>\n",
       "    .dataframe tbody tr th:only-of-type {\n",
       "        vertical-align: middle;\n",
       "    }\n",
       "\n",
       "    .dataframe tbody tr th {\n",
       "        vertical-align: top;\n",
       "    }\n",
       "\n",
       "    .dataframe thead th {\n",
       "        text-align: right;\n",
       "    }\n",
       "</style>\n",
       "<table border=\"1\" class=\"dataframe\">\n",
       "  <thead>\n",
       "    <tr style=\"text-align: right;\">\n",
       "      <th></th>\n",
       "      <th>company</th>\n",
       "      <th>price_rupiah</th>\n",
       "      <th>diameter</th>\n",
       "      <th>topping</th>\n",
       "      <th>variant</th>\n",
       "      <th>size</th>\n",
       "      <th>extra_sauce</th>\n",
       "      <th>extra_cheese</th>\n",
       "      <th>extra_mushrooms</th>\n",
       "    </tr>\n",
       "  </thead>\n",
       "  <tbody>\n",
       "    <tr>\n",
       "      <th>124</th>\n",
       "      <td>E</td>\n",
       "      <td>Rp39,000</td>\n",
       "      <td>8.5 inch</td>\n",
       "      <td>tuna</td>\n",
       "      <td>spicy tuna</td>\n",
       "      <td>small</td>\n",
       "      <td>yes</td>\n",
       "      <td>yes</td>\n",
       "      <td>yes</td>\n",
       "    </tr>\n",
       "    <tr>\n",
       "      <th>125</th>\n",
       "      <td>E</td>\n",
       "      <td>Rp72,000</td>\n",
       "      <td>12 inch</td>\n",
       "      <td>tuna</td>\n",
       "      <td>spicy tuna</td>\n",
       "      <td>medium</td>\n",
       "      <td>yes</td>\n",
       "      <td>yes</td>\n",
       "      <td>yes</td>\n",
       "    </tr>\n",
       "    <tr>\n",
       "      <th>126</th>\n",
       "      <td>E</td>\n",
       "      <td>Rp99,000</td>\n",
       "      <td>14 inch</td>\n",
       "      <td>tuna</td>\n",
       "      <td>spicy tuna</td>\n",
       "      <td>large</td>\n",
       "      <td>yes</td>\n",
       "      <td>yes</td>\n",
       "      <td>yes</td>\n",
       "    </tr>\n",
       "    <tr>\n",
       "      <th>127</th>\n",
       "      <td>E</td>\n",
       "      <td>Rp44,000</td>\n",
       "      <td>8.5 inch</td>\n",
       "      <td>meat</td>\n",
       "      <td>BBQ_meat_fiesta</td>\n",
       "      <td>small</td>\n",
       "      <td>yes</td>\n",
       "      <td>no</td>\n",
       "      <td>yes</td>\n",
       "    </tr>\n",
       "    <tr>\n",
       "      <th>128</th>\n",
       "      <td>E</td>\n",
       "      <td>Rp78,000</td>\n",
       "      <td>12 inch</td>\n",
       "      <td>meat</td>\n",
       "      <td>BBQ_meat_fiesta</td>\n",
       "      <td>medium</td>\n",
       "      <td>no</td>\n",
       "      <td>no</td>\n",
       "      <td>yes</td>\n",
       "    </tr>\n",
       "  </tbody>\n",
       "</table>\n",
       "</div>"
      ],
      "text/plain": [
       "    company price_rupiah  diameter topping          variant    size  \\\n",
       "124       E     Rp39,000  8.5 inch    tuna       spicy tuna   small   \n",
       "125       E     Rp72,000   12 inch    tuna       spicy tuna  medium   \n",
       "126       E     Rp99,000   14 inch    tuna       spicy tuna   large   \n",
       "127       E     Rp44,000  8.5 inch    meat  BBQ_meat_fiesta   small   \n",
       "128       E     Rp78,000   12 inch    meat  BBQ_meat_fiesta  medium   \n",
       "\n",
       "    extra_sauce extra_cheese extra_mushrooms  \n",
       "124         yes          yes             yes  \n",
       "125         yes          yes             yes  \n",
       "126         yes          yes             yes  \n",
       "127         yes           no             yes  \n",
       "128          no           no             yes  "
      ]
     },
     "execution_count": 6,
     "metadata": {},
     "output_type": "execute_result"
    }
   ],
   "source": [
    "pizza.tail()"
   ]
  },
  {
   "cell_type": "code",
   "execution_count": 7,
   "id": "ca0fae59",
   "metadata": {},
   "outputs": [
    {
     "data": {
      "text/html": [
       "<div>\n",
       "<style scoped>\n",
       "    .dataframe tbody tr th:only-of-type {\n",
       "        vertical-align: middle;\n",
       "    }\n",
       "\n",
       "    .dataframe tbody tr th {\n",
       "        vertical-align: top;\n",
       "    }\n",
       "\n",
       "    .dataframe thead th {\n",
       "        text-align: right;\n",
       "    }\n",
       "</style>\n",
       "<table border=\"1\" class=\"dataframe\">\n",
       "  <thead>\n",
       "    <tr style=\"text-align: right;\">\n",
       "      <th></th>\n",
       "      <th>company</th>\n",
       "      <th>price_rupiah</th>\n",
       "      <th>diameter</th>\n",
       "      <th>topping</th>\n",
       "      <th>variant</th>\n",
       "      <th>size</th>\n",
       "      <th>extra_sauce</th>\n",
       "      <th>extra_cheese</th>\n",
       "      <th>extra_mushrooms</th>\n",
       "    </tr>\n",
       "  </thead>\n",
       "  <tbody>\n",
       "    <tr>\n",
       "      <th>count</th>\n",
       "      <td>129</td>\n",
       "      <td>129</td>\n",
       "      <td>129</td>\n",
       "      <td>129</td>\n",
       "      <td>129</td>\n",
       "      <td>129</td>\n",
       "      <td>129</td>\n",
       "      <td>129</td>\n",
       "      <td>129</td>\n",
       "    </tr>\n",
       "    <tr>\n",
       "      <th>unique</th>\n",
       "      <td>5</td>\n",
       "      <td>43</td>\n",
       "      <td>12</td>\n",
       "      <td>12</td>\n",
       "      <td>20</td>\n",
       "      <td>6</td>\n",
       "      <td>2</td>\n",
       "      <td>2</td>\n",
       "      <td>2</td>\n",
       "    </tr>\n",
       "    <tr>\n",
       "      <th>top</th>\n",
       "      <td>C</td>\n",
       "      <td>Rp72,000</td>\n",
       "      <td>12 inch</td>\n",
       "      <td>chicken</td>\n",
       "      <td>classic</td>\n",
       "      <td>medium</td>\n",
       "      <td>yes</td>\n",
       "      <td>yes</td>\n",
       "      <td>yes</td>\n",
       "    </tr>\n",
       "    <tr>\n",
       "      <th>freq</th>\n",
       "      <td>30</td>\n",
       "      <td>11</td>\n",
       "      <td>49</td>\n",
       "      <td>29</td>\n",
       "      <td>30</td>\n",
       "      <td>41</td>\n",
       "      <td>76</td>\n",
       "      <td>86</td>\n",
       "      <td>72</td>\n",
       "    </tr>\n",
       "  </tbody>\n",
       "</table>\n",
       "</div>"
      ],
      "text/plain": [
       "       company price_rupiah diameter  topping  variant    size extra_sauce  \\\n",
       "count      129          129      129      129      129     129         129   \n",
       "unique       5           43       12       12       20       6           2   \n",
       "top          C     Rp72,000  12 inch  chicken  classic  medium         yes   \n",
       "freq        30           11       49       29       30      41          76   \n",
       "\n",
       "       extra_cheese extra_mushrooms  \n",
       "count           129             129  \n",
       "unique            2               2  \n",
       "top             yes             yes  \n",
       "freq             86              72  "
      ]
     },
     "execution_count": 7,
     "metadata": {},
     "output_type": "execute_result"
    }
   ],
   "source": [
    "pizza.describe()"
   ]
  },
  {
   "cell_type": "code",
   "execution_count": 8,
   "id": "5eb621de",
   "metadata": {},
   "outputs": [
    {
     "data": {
      "text/plain": [
       "0    Rp235,000\n",
       "1    Rp198,000\n",
       "2    Rp120,000\n",
       "3    Rp155,000\n",
       "4    Rp248,000\n",
       "Name: price_rupiah, dtype: object"
      ]
     },
     "execution_count": 8,
     "metadata": {},
     "output_type": "execute_result"
    }
   ],
   "source": [
    "pizza['price_rupiah'].head()"
   ]
  },
  {
   "cell_type": "markdown",
   "id": "b339143b",
   "metadata": {},
   "source": [
    "### Utility function for filtering the `price_rupiah` column"
   ]
  },
  {
   "cell_type": "code",
   "execution_count": 9,
   "id": "ce06ecf1",
   "metadata": {},
   "outputs": [],
   "source": [
    "def remove_Rp(price):\n",
    "    for char in price:\n",
    "        if char in \"Rp,\":\n",
    "            price = price.replace(char,'')\n",
    "    return price"
   ]
  },
  {
   "cell_type": "code",
   "execution_count": 10,
   "id": "4d559c2b",
   "metadata": {},
   "outputs": [
    {
     "data": {
      "text/plain": [
       "'235000'"
      ]
     },
     "execution_count": 10,
     "metadata": {},
     "output_type": "execute_result"
    }
   ],
   "source": [
    "check = remove_Rp(pizza['price_rupiah'][0])\n",
    "check"
   ]
  },
  {
   "cell_type": "code",
   "execution_count": 11,
   "id": "e7acb4be",
   "metadata": {},
   "outputs": [],
   "source": [
    "price = pizza['price_rupiah'].apply(remove_Rp)"
   ]
  },
  {
   "cell_type": "code",
   "execution_count": 12,
   "id": "b73c8aa8",
   "metadata": {},
   "outputs": [],
   "source": [
    "price = price.astype('float64')"
   ]
  },
  {
   "cell_type": "code",
   "execution_count": 13,
   "id": "aefe3fb3",
   "metadata": {},
   "outputs": [
    {
     "data": {
      "text/html": [
       "<div>\n",
       "<style scoped>\n",
       "    .dataframe tbody tr th:only-of-type {\n",
       "        vertical-align: middle;\n",
       "    }\n",
       "\n",
       "    .dataframe tbody tr th {\n",
       "        vertical-align: top;\n",
       "    }\n",
       "\n",
       "    .dataframe thead th {\n",
       "        text-align: right;\n",
       "    }\n",
       "</style>\n",
       "<table border=\"1\" class=\"dataframe\">\n",
       "  <thead>\n",
       "    <tr style=\"text-align: right;\">\n",
       "      <th></th>\n",
       "      <th>company</th>\n",
       "      <th>price_rupiah</th>\n",
       "      <th>diameter</th>\n",
       "      <th>topping</th>\n",
       "      <th>variant</th>\n",
       "      <th>size</th>\n",
       "      <th>extra_sauce</th>\n",
       "      <th>extra_cheese</th>\n",
       "      <th>extra_mushrooms</th>\n",
       "      <th>Pizza_price</th>\n",
       "    </tr>\n",
       "  </thead>\n",
       "  <tbody>\n",
       "    <tr>\n",
       "      <th>0</th>\n",
       "      <td>A</td>\n",
       "      <td>Rp235,000</td>\n",
       "      <td>22 inch</td>\n",
       "      <td>chicken</td>\n",
       "      <td>double_signature</td>\n",
       "      <td>jumbo</td>\n",
       "      <td>yes</td>\n",
       "      <td>yes</td>\n",
       "      <td>no</td>\n",
       "      <td>235000.0</td>\n",
       "    </tr>\n",
       "    <tr>\n",
       "      <th>1</th>\n",
       "      <td>A</td>\n",
       "      <td>Rp198,000</td>\n",
       "      <td>20 inch</td>\n",
       "      <td>papperoni</td>\n",
       "      <td>double_signature</td>\n",
       "      <td>jumbo</td>\n",
       "      <td>yes</td>\n",
       "      <td>yes</td>\n",
       "      <td>no</td>\n",
       "      <td>198000.0</td>\n",
       "    </tr>\n",
       "    <tr>\n",
       "      <th>2</th>\n",
       "      <td>A</td>\n",
       "      <td>Rp120,000</td>\n",
       "      <td>16 inch</td>\n",
       "      <td>mushrooms</td>\n",
       "      <td>double_signature</td>\n",
       "      <td>reguler</td>\n",
       "      <td>yes</td>\n",
       "      <td>yes</td>\n",
       "      <td>yes</td>\n",
       "      <td>120000.0</td>\n",
       "    </tr>\n",
       "    <tr>\n",
       "      <th>3</th>\n",
       "      <td>A</td>\n",
       "      <td>Rp155,000</td>\n",
       "      <td>14 inch</td>\n",
       "      <td>smoked_beef</td>\n",
       "      <td>double_signature</td>\n",
       "      <td>reguler</td>\n",
       "      <td>yes</td>\n",
       "      <td>no</td>\n",
       "      <td>yes</td>\n",
       "      <td>155000.0</td>\n",
       "    </tr>\n",
       "    <tr>\n",
       "      <th>4</th>\n",
       "      <td>A</td>\n",
       "      <td>Rp248,000</td>\n",
       "      <td>18 inch</td>\n",
       "      <td>mozzarella</td>\n",
       "      <td>double_signature</td>\n",
       "      <td>jumbo</td>\n",
       "      <td>yes</td>\n",
       "      <td>no</td>\n",
       "      <td>yes</td>\n",
       "      <td>248000.0</td>\n",
       "    </tr>\n",
       "  </tbody>\n",
       "</table>\n",
       "</div>"
      ],
      "text/plain": [
       "  company price_rupiah diameter      topping           variant     size  \\\n",
       "0       A    Rp235,000  22 inch      chicken  double_signature    jumbo   \n",
       "1       A    Rp198,000  20 inch    papperoni  double_signature    jumbo   \n",
       "2       A    Rp120,000  16 inch    mushrooms  double_signature  reguler   \n",
       "3       A    Rp155,000  14 inch  smoked_beef  double_signature  reguler   \n",
       "4       A    Rp248,000  18 inch   mozzarella  double_signature    jumbo   \n",
       "\n",
       "  extra_sauce extra_cheese extra_mushrooms  Pizza_price  \n",
       "0         yes          yes              no     235000.0  \n",
       "1         yes          yes              no     198000.0  \n",
       "2         yes          yes             yes     120000.0  \n",
       "3         yes           no             yes     155000.0  \n",
       "4         yes           no             yes     248000.0  "
      ]
     },
     "execution_count": 13,
     "metadata": {},
     "output_type": "execute_result"
    }
   ],
   "source": [
    "pizza['Pizza_price'] = price\n",
    "pizza.head()"
   ]
  },
  {
   "cell_type": "code",
   "execution_count": 14,
   "id": "de2474c2",
   "metadata": {},
   "outputs": [],
   "source": [
    "pizza.drop(['company', 'price_rupiah'], axis=1, inplace=True)"
   ]
  },
  {
   "cell_type": "markdown",
   "id": "f5a65985",
   "metadata": {},
   "source": [
    "### Utility function for filtering the `diameter` column"
   ]
  },
  {
   "cell_type": "code",
   "execution_count": 15,
   "id": "283e19df",
   "metadata": {},
   "outputs": [],
   "source": [
    "def remove_inch(size):\n",
    "    for char in size:\n",
    "        if char in \" inch\":\n",
    "            size = size.replace(char,'')\n",
    "    return size"
   ]
  },
  {
   "cell_type": "code",
   "execution_count": 16,
   "id": "49c8b1ba",
   "metadata": {},
   "outputs": [],
   "source": [
    "diameter = pizza['diameter'].apply(remove_inch)"
   ]
  },
  {
   "cell_type": "code",
   "execution_count": 17,
   "id": "c6d47d3f",
   "metadata": {},
   "outputs": [],
   "source": [
    "diameter = diameter.astype('float64')"
   ]
  },
  {
   "cell_type": "code",
   "execution_count": 18,
   "id": "775fa935",
   "metadata": {},
   "outputs": [],
   "source": [
    "pizza['diameter'] = diameter"
   ]
  },
  {
   "cell_type": "code",
   "execution_count": 19,
   "id": "21b345c1",
   "metadata": {},
   "outputs": [
    {
     "data": {
      "text/html": [
       "<div>\n",
       "<style scoped>\n",
       "    .dataframe tbody tr th:only-of-type {\n",
       "        vertical-align: middle;\n",
       "    }\n",
       "\n",
       "    .dataframe tbody tr th {\n",
       "        vertical-align: top;\n",
       "    }\n",
       "\n",
       "    .dataframe thead th {\n",
       "        text-align: right;\n",
       "    }\n",
       "</style>\n",
       "<table border=\"1\" class=\"dataframe\">\n",
       "  <thead>\n",
       "    <tr style=\"text-align: right;\">\n",
       "      <th></th>\n",
       "      <th>diameter</th>\n",
       "      <th>topping</th>\n",
       "      <th>variant</th>\n",
       "      <th>size</th>\n",
       "      <th>extra_sauce</th>\n",
       "      <th>extra_cheese</th>\n",
       "      <th>extra_mushrooms</th>\n",
       "      <th>Pizza_price</th>\n",
       "    </tr>\n",
       "  </thead>\n",
       "  <tbody>\n",
       "    <tr>\n",
       "      <th>0</th>\n",
       "      <td>22.0</td>\n",
       "      <td>chicken</td>\n",
       "      <td>double_signature</td>\n",
       "      <td>jumbo</td>\n",
       "      <td>yes</td>\n",
       "      <td>yes</td>\n",
       "      <td>no</td>\n",
       "      <td>235000.0</td>\n",
       "    </tr>\n",
       "    <tr>\n",
       "      <th>1</th>\n",
       "      <td>20.0</td>\n",
       "      <td>papperoni</td>\n",
       "      <td>double_signature</td>\n",
       "      <td>jumbo</td>\n",
       "      <td>yes</td>\n",
       "      <td>yes</td>\n",
       "      <td>no</td>\n",
       "      <td>198000.0</td>\n",
       "    </tr>\n",
       "    <tr>\n",
       "      <th>2</th>\n",
       "      <td>16.0</td>\n",
       "      <td>mushrooms</td>\n",
       "      <td>double_signature</td>\n",
       "      <td>reguler</td>\n",
       "      <td>yes</td>\n",
       "      <td>yes</td>\n",
       "      <td>yes</td>\n",
       "      <td>120000.0</td>\n",
       "    </tr>\n",
       "    <tr>\n",
       "      <th>3</th>\n",
       "      <td>14.0</td>\n",
       "      <td>smoked_beef</td>\n",
       "      <td>double_signature</td>\n",
       "      <td>reguler</td>\n",
       "      <td>yes</td>\n",
       "      <td>no</td>\n",
       "      <td>yes</td>\n",
       "      <td>155000.0</td>\n",
       "    </tr>\n",
       "    <tr>\n",
       "      <th>4</th>\n",
       "      <td>18.0</td>\n",
       "      <td>mozzarella</td>\n",
       "      <td>double_signature</td>\n",
       "      <td>jumbo</td>\n",
       "      <td>yes</td>\n",
       "      <td>no</td>\n",
       "      <td>yes</td>\n",
       "      <td>248000.0</td>\n",
       "    </tr>\n",
       "    <tr>\n",
       "      <th>...</th>\n",
       "      <td>...</td>\n",
       "      <td>...</td>\n",
       "      <td>...</td>\n",
       "      <td>...</td>\n",
       "      <td>...</td>\n",
       "      <td>...</td>\n",
       "      <td>...</td>\n",
       "      <td>...</td>\n",
       "    </tr>\n",
       "    <tr>\n",
       "      <th>124</th>\n",
       "      <td>8.5</td>\n",
       "      <td>tuna</td>\n",
       "      <td>spicy tuna</td>\n",
       "      <td>small</td>\n",
       "      <td>yes</td>\n",
       "      <td>yes</td>\n",
       "      <td>yes</td>\n",
       "      <td>39000.0</td>\n",
       "    </tr>\n",
       "    <tr>\n",
       "      <th>125</th>\n",
       "      <td>12.0</td>\n",
       "      <td>tuna</td>\n",
       "      <td>spicy tuna</td>\n",
       "      <td>medium</td>\n",
       "      <td>yes</td>\n",
       "      <td>yes</td>\n",
       "      <td>yes</td>\n",
       "      <td>72000.0</td>\n",
       "    </tr>\n",
       "    <tr>\n",
       "      <th>126</th>\n",
       "      <td>14.0</td>\n",
       "      <td>tuna</td>\n",
       "      <td>spicy tuna</td>\n",
       "      <td>large</td>\n",
       "      <td>yes</td>\n",
       "      <td>yes</td>\n",
       "      <td>yes</td>\n",
       "      <td>99000.0</td>\n",
       "    </tr>\n",
       "    <tr>\n",
       "      <th>127</th>\n",
       "      <td>8.5</td>\n",
       "      <td>meat</td>\n",
       "      <td>BBQ_meat_fiesta</td>\n",
       "      <td>small</td>\n",
       "      <td>yes</td>\n",
       "      <td>no</td>\n",
       "      <td>yes</td>\n",
       "      <td>44000.0</td>\n",
       "    </tr>\n",
       "    <tr>\n",
       "      <th>128</th>\n",
       "      <td>12.0</td>\n",
       "      <td>meat</td>\n",
       "      <td>BBQ_meat_fiesta</td>\n",
       "      <td>medium</td>\n",
       "      <td>no</td>\n",
       "      <td>no</td>\n",
       "      <td>yes</td>\n",
       "      <td>78000.0</td>\n",
       "    </tr>\n",
       "  </tbody>\n",
       "</table>\n",
       "<p>129 rows × 8 columns</p>\n",
       "</div>"
      ],
      "text/plain": [
       "     diameter      topping           variant     size extra_sauce  \\\n",
       "0        22.0      chicken  double_signature    jumbo         yes   \n",
       "1        20.0    papperoni  double_signature    jumbo         yes   \n",
       "2        16.0    mushrooms  double_signature  reguler         yes   \n",
       "3        14.0  smoked_beef  double_signature  reguler         yes   \n",
       "4        18.0   mozzarella  double_signature    jumbo         yes   \n",
       "..        ...          ...               ...      ...         ...   \n",
       "124       8.5         tuna        spicy tuna    small         yes   \n",
       "125      12.0         tuna        spicy tuna   medium         yes   \n",
       "126      14.0         tuna        spicy tuna    large         yes   \n",
       "127       8.5         meat   BBQ_meat_fiesta    small         yes   \n",
       "128      12.0         meat   BBQ_meat_fiesta   medium          no   \n",
       "\n",
       "    extra_cheese extra_mushrooms  Pizza_price  \n",
       "0            yes              no     235000.0  \n",
       "1            yes              no     198000.0  \n",
       "2            yes             yes     120000.0  \n",
       "3             no             yes     155000.0  \n",
       "4             no             yes     248000.0  \n",
       "..           ...             ...          ...  \n",
       "124          yes             yes      39000.0  \n",
       "125          yes             yes      72000.0  \n",
       "126          yes             yes      99000.0  \n",
       "127           no             yes      44000.0  \n",
       "128           no             yes      78000.0  \n",
       "\n",
       "[129 rows x 8 columns]"
      ]
     },
     "execution_count": 19,
     "metadata": {},
     "output_type": "execute_result"
    }
   ],
   "source": [
    "pizza"
   ]
  },
  {
   "cell_type": "code",
   "execution_count": 20,
   "id": "f6dc0cec",
   "metadata": {},
   "outputs": [
    {
     "name": "stdout",
     "output_type": "stream",
     "text": [
      "<class 'pandas.core.frame.DataFrame'>\n",
      "RangeIndex: 129 entries, 0 to 128\n",
      "Data columns (total 8 columns):\n",
      " #   Column           Non-Null Count  Dtype  \n",
      "---  ------           --------------  -----  \n",
      " 0   diameter         129 non-null    float64\n",
      " 1   topping          129 non-null    object \n",
      " 2   variant          129 non-null    object \n",
      " 3   size             129 non-null    object \n",
      " 4   extra_sauce      129 non-null    object \n",
      " 5   extra_cheese     129 non-null    object \n",
      " 6   extra_mushrooms  129 non-null    object \n",
      " 7   Pizza_price      129 non-null    float64\n",
      "dtypes: float64(2), object(6)\n",
      "memory usage: 8.2+ KB\n"
     ]
    }
   ],
   "source": [
    "pizza.info()"
   ]
  },
  {
   "cell_type": "markdown",
   "id": "d0b65e9f",
   "metadata": {},
   "source": [
    "### Converting the categorical columns `extra_sauce`, `extra_cheese` and `extra_mushrooms` to numerical columns"
   ]
  },
  {
   "cell_type": "code",
   "execution_count": 21,
   "id": "4386b06c",
   "metadata": {},
   "outputs": [],
   "source": [
    "pizza['extra_sauce'] = pizza['extra_sauce'].apply(lambda x : 1 if x=='yes' else 0)\n",
    "pizza['extra_cheese'] = pizza['extra_cheese'].apply(lambda x : 1 if x=='yes' else 0)\n",
    "pizza['extra_mushrooms'] = pizza['extra_mushrooms'].apply(lambda x : 1 if x=='yes' else 0)"
   ]
  },
  {
   "cell_type": "code",
   "execution_count": 22,
   "id": "f25bb980",
   "metadata": {},
   "outputs": [
    {
     "data": {
      "text/html": [
       "<div>\n",
       "<style scoped>\n",
       "    .dataframe tbody tr th:only-of-type {\n",
       "        vertical-align: middle;\n",
       "    }\n",
       "\n",
       "    .dataframe tbody tr th {\n",
       "        vertical-align: top;\n",
       "    }\n",
       "\n",
       "    .dataframe thead th {\n",
       "        text-align: right;\n",
       "    }\n",
       "</style>\n",
       "<table border=\"1\" class=\"dataframe\">\n",
       "  <thead>\n",
       "    <tr style=\"text-align: right;\">\n",
       "      <th></th>\n",
       "      <th>diameter</th>\n",
       "      <th>topping</th>\n",
       "      <th>variant</th>\n",
       "      <th>size</th>\n",
       "      <th>extra_sauce</th>\n",
       "      <th>extra_cheese</th>\n",
       "      <th>extra_mushrooms</th>\n",
       "      <th>Pizza_price</th>\n",
       "    </tr>\n",
       "  </thead>\n",
       "  <tbody>\n",
       "    <tr>\n",
       "      <th>0</th>\n",
       "      <td>22.0</td>\n",
       "      <td>chicken</td>\n",
       "      <td>double_signature</td>\n",
       "      <td>jumbo</td>\n",
       "      <td>1</td>\n",
       "      <td>1</td>\n",
       "      <td>0</td>\n",
       "      <td>235000.0</td>\n",
       "    </tr>\n",
       "    <tr>\n",
       "      <th>1</th>\n",
       "      <td>20.0</td>\n",
       "      <td>papperoni</td>\n",
       "      <td>double_signature</td>\n",
       "      <td>jumbo</td>\n",
       "      <td>1</td>\n",
       "      <td>1</td>\n",
       "      <td>0</td>\n",
       "      <td>198000.0</td>\n",
       "    </tr>\n",
       "    <tr>\n",
       "      <th>2</th>\n",
       "      <td>16.0</td>\n",
       "      <td>mushrooms</td>\n",
       "      <td>double_signature</td>\n",
       "      <td>reguler</td>\n",
       "      <td>1</td>\n",
       "      <td>1</td>\n",
       "      <td>1</td>\n",
       "      <td>120000.0</td>\n",
       "    </tr>\n",
       "    <tr>\n",
       "      <th>3</th>\n",
       "      <td>14.0</td>\n",
       "      <td>smoked_beef</td>\n",
       "      <td>double_signature</td>\n",
       "      <td>reguler</td>\n",
       "      <td>1</td>\n",
       "      <td>0</td>\n",
       "      <td>1</td>\n",
       "      <td>155000.0</td>\n",
       "    </tr>\n",
       "    <tr>\n",
       "      <th>4</th>\n",
       "      <td>18.0</td>\n",
       "      <td>mozzarella</td>\n",
       "      <td>double_signature</td>\n",
       "      <td>jumbo</td>\n",
       "      <td>1</td>\n",
       "      <td>0</td>\n",
       "      <td>1</td>\n",
       "      <td>248000.0</td>\n",
       "    </tr>\n",
       "    <tr>\n",
       "      <th>...</th>\n",
       "      <td>...</td>\n",
       "      <td>...</td>\n",
       "      <td>...</td>\n",
       "      <td>...</td>\n",
       "      <td>...</td>\n",
       "      <td>...</td>\n",
       "      <td>...</td>\n",
       "      <td>...</td>\n",
       "    </tr>\n",
       "    <tr>\n",
       "      <th>124</th>\n",
       "      <td>8.5</td>\n",
       "      <td>tuna</td>\n",
       "      <td>spicy tuna</td>\n",
       "      <td>small</td>\n",
       "      <td>1</td>\n",
       "      <td>1</td>\n",
       "      <td>1</td>\n",
       "      <td>39000.0</td>\n",
       "    </tr>\n",
       "    <tr>\n",
       "      <th>125</th>\n",
       "      <td>12.0</td>\n",
       "      <td>tuna</td>\n",
       "      <td>spicy tuna</td>\n",
       "      <td>medium</td>\n",
       "      <td>1</td>\n",
       "      <td>1</td>\n",
       "      <td>1</td>\n",
       "      <td>72000.0</td>\n",
       "    </tr>\n",
       "    <tr>\n",
       "      <th>126</th>\n",
       "      <td>14.0</td>\n",
       "      <td>tuna</td>\n",
       "      <td>spicy tuna</td>\n",
       "      <td>large</td>\n",
       "      <td>1</td>\n",
       "      <td>1</td>\n",
       "      <td>1</td>\n",
       "      <td>99000.0</td>\n",
       "    </tr>\n",
       "    <tr>\n",
       "      <th>127</th>\n",
       "      <td>8.5</td>\n",
       "      <td>meat</td>\n",
       "      <td>BBQ_meat_fiesta</td>\n",
       "      <td>small</td>\n",
       "      <td>1</td>\n",
       "      <td>0</td>\n",
       "      <td>1</td>\n",
       "      <td>44000.0</td>\n",
       "    </tr>\n",
       "    <tr>\n",
       "      <th>128</th>\n",
       "      <td>12.0</td>\n",
       "      <td>meat</td>\n",
       "      <td>BBQ_meat_fiesta</td>\n",
       "      <td>medium</td>\n",
       "      <td>0</td>\n",
       "      <td>0</td>\n",
       "      <td>1</td>\n",
       "      <td>78000.0</td>\n",
       "    </tr>\n",
       "  </tbody>\n",
       "</table>\n",
       "<p>129 rows × 8 columns</p>\n",
       "</div>"
      ],
      "text/plain": [
       "     diameter      topping           variant     size  extra_sauce  \\\n",
       "0        22.0      chicken  double_signature    jumbo            1   \n",
       "1        20.0    papperoni  double_signature    jumbo            1   \n",
       "2        16.0    mushrooms  double_signature  reguler            1   \n",
       "3        14.0  smoked_beef  double_signature  reguler            1   \n",
       "4        18.0   mozzarella  double_signature    jumbo            1   \n",
       "..        ...          ...               ...      ...          ...   \n",
       "124       8.5         tuna        spicy tuna    small            1   \n",
       "125      12.0         tuna        spicy tuna   medium            1   \n",
       "126      14.0         tuna        spicy tuna    large            1   \n",
       "127       8.5         meat   BBQ_meat_fiesta    small            1   \n",
       "128      12.0         meat   BBQ_meat_fiesta   medium            0   \n",
       "\n",
       "     extra_cheese  extra_mushrooms  Pizza_price  \n",
       "0               1                0     235000.0  \n",
       "1               1                0     198000.0  \n",
       "2               1                1     120000.0  \n",
       "3               0                1     155000.0  \n",
       "4               0                1     248000.0  \n",
       "..            ...              ...          ...  \n",
       "124             1                1      39000.0  \n",
       "125             1                1      72000.0  \n",
       "126             1                1      99000.0  \n",
       "127             0                1      44000.0  \n",
       "128             0                1      78000.0  \n",
       "\n",
       "[129 rows x 8 columns]"
      ]
     },
     "execution_count": 22,
     "metadata": {},
     "output_type": "execute_result"
    }
   ],
   "source": [
    "pizza"
   ]
  },
  {
   "cell_type": "markdown",
   "id": "e67dd8ab",
   "metadata": {},
   "source": [
    "### One-Hot encoding the columns `topping`, `variant` and `size`"
   ]
  },
  {
   "cell_type": "code",
   "execution_count": 23,
   "id": "a9600836",
   "metadata": {},
   "outputs": [
    {
     "data": {
      "text/plain": [
       "array(['jumbo', 'reguler', 'small', 'medium', 'large', 'XL'], dtype=object)"
      ]
     },
     "execution_count": 23,
     "metadata": {},
     "output_type": "execute_result"
    }
   ],
   "source": [
    "pizza['size'].unique()"
   ]
  },
  {
   "cell_type": "code",
   "execution_count": 24,
   "id": "281dd82e",
   "metadata": {},
   "outputs": [
    {
     "data": {
      "text/plain": [
       "chicken         29\n",
       "mushrooms       22\n",
       "mozzarella      21\n",
       "smoked_beef     19\n",
       "tuna             9\n",
       "vegetables       9\n",
       "meat             8\n",
       "sausage          3\n",
       "black_papper     3\n",
       "beef             3\n",
       "papperoni        2\n",
       "onion            1\n",
       "Name: topping, dtype: int64"
      ]
     },
     "execution_count": 24,
     "metadata": {},
     "output_type": "execute_result"
    }
   ],
   "source": [
    "pizza['topping'].value_counts()"
   ]
  },
  {
   "cell_type": "code",
   "execution_count": 25,
   "id": "8931051e",
   "metadata": {},
   "outputs": [
    {
     "data": {
      "text/plain": [
       "classic              30\n",
       "double_mix           10\n",
       "crunchy              10\n",
       "meat_lovers          10\n",
       "new_york             10\n",
       "double_decker         9\n",
       "american_favorite     5\n",
       "double_signature      5\n",
       "BBQ_meat_fiesta       5\n",
       "super_supreme         5\n",
       "neptune_tuna          3\n",
       "extravaganza          3\n",
       "italian_veggie        3\n",
       "gournet_greek         3\n",
       "american_classic      3\n",
       "spicy_tuna            3\n",
       "BBQ_sausage           3\n",
       "meat_eater            3\n",
       "thai_veggie           3\n",
       "spicy tuna            3\n",
       "Name: variant, dtype: int64"
      ]
     },
     "execution_count": 25,
     "metadata": {},
     "output_type": "execute_result"
    }
   ],
   "source": [
    "pizza['variant'].value_counts()"
   ]
  },
  {
   "cell_type": "code",
   "execution_count": 26,
   "id": "b31f13ad",
   "metadata": {},
   "outputs": [
    {
     "data": {
      "text/html": [
       "<div>\n",
       "<style scoped>\n",
       "    .dataframe tbody tr th:only-of-type {\n",
       "        vertical-align: middle;\n",
       "    }\n",
       "\n",
       "    .dataframe tbody tr th {\n",
       "        vertical-align: top;\n",
       "    }\n",
       "\n",
       "    .dataframe thead th {\n",
       "        text-align: right;\n",
       "    }\n",
       "</style>\n",
       "<table border=\"1\" class=\"dataframe\">\n",
       "  <thead>\n",
       "    <tr style=\"text-align: right;\">\n",
       "      <th></th>\n",
       "      <th>diameter</th>\n",
       "      <th>extra_sauce</th>\n",
       "      <th>extra_cheese</th>\n",
       "      <th>extra_mushrooms</th>\n",
       "      <th>Pizza_price</th>\n",
       "      <th>topping_beef</th>\n",
       "      <th>topping_black_papper</th>\n",
       "      <th>topping_chicken</th>\n",
       "      <th>topping_meat</th>\n",
       "      <th>topping_mozzarella</th>\n",
       "      <th>...</th>\n",
       "      <th>variant_spicy tuna</th>\n",
       "      <th>variant_spicy_tuna</th>\n",
       "      <th>variant_super_supreme</th>\n",
       "      <th>variant_thai_veggie</th>\n",
       "      <th>size_XL</th>\n",
       "      <th>size_jumbo</th>\n",
       "      <th>size_large</th>\n",
       "      <th>size_medium</th>\n",
       "      <th>size_reguler</th>\n",
       "      <th>size_small</th>\n",
       "    </tr>\n",
       "  </thead>\n",
       "  <tbody>\n",
       "    <tr>\n",
       "      <th>0</th>\n",
       "      <td>22.0</td>\n",
       "      <td>1</td>\n",
       "      <td>1</td>\n",
       "      <td>0</td>\n",
       "      <td>235000.0</td>\n",
       "      <td>0</td>\n",
       "      <td>0</td>\n",
       "      <td>1</td>\n",
       "      <td>0</td>\n",
       "      <td>0</td>\n",
       "      <td>...</td>\n",
       "      <td>0</td>\n",
       "      <td>0</td>\n",
       "      <td>0</td>\n",
       "      <td>0</td>\n",
       "      <td>0</td>\n",
       "      <td>1</td>\n",
       "      <td>0</td>\n",
       "      <td>0</td>\n",
       "      <td>0</td>\n",
       "      <td>0</td>\n",
       "    </tr>\n",
       "    <tr>\n",
       "      <th>1</th>\n",
       "      <td>20.0</td>\n",
       "      <td>1</td>\n",
       "      <td>1</td>\n",
       "      <td>0</td>\n",
       "      <td>198000.0</td>\n",
       "      <td>0</td>\n",
       "      <td>0</td>\n",
       "      <td>0</td>\n",
       "      <td>0</td>\n",
       "      <td>0</td>\n",
       "      <td>...</td>\n",
       "      <td>0</td>\n",
       "      <td>0</td>\n",
       "      <td>0</td>\n",
       "      <td>0</td>\n",
       "      <td>0</td>\n",
       "      <td>1</td>\n",
       "      <td>0</td>\n",
       "      <td>0</td>\n",
       "      <td>0</td>\n",
       "      <td>0</td>\n",
       "    </tr>\n",
       "    <tr>\n",
       "      <th>2</th>\n",
       "      <td>16.0</td>\n",
       "      <td>1</td>\n",
       "      <td>1</td>\n",
       "      <td>1</td>\n",
       "      <td>120000.0</td>\n",
       "      <td>0</td>\n",
       "      <td>0</td>\n",
       "      <td>0</td>\n",
       "      <td>0</td>\n",
       "      <td>0</td>\n",
       "      <td>...</td>\n",
       "      <td>0</td>\n",
       "      <td>0</td>\n",
       "      <td>0</td>\n",
       "      <td>0</td>\n",
       "      <td>0</td>\n",
       "      <td>0</td>\n",
       "      <td>0</td>\n",
       "      <td>0</td>\n",
       "      <td>1</td>\n",
       "      <td>0</td>\n",
       "    </tr>\n",
       "    <tr>\n",
       "      <th>3</th>\n",
       "      <td>14.0</td>\n",
       "      <td>1</td>\n",
       "      <td>0</td>\n",
       "      <td>1</td>\n",
       "      <td>155000.0</td>\n",
       "      <td>0</td>\n",
       "      <td>0</td>\n",
       "      <td>0</td>\n",
       "      <td>0</td>\n",
       "      <td>0</td>\n",
       "      <td>...</td>\n",
       "      <td>0</td>\n",
       "      <td>0</td>\n",
       "      <td>0</td>\n",
       "      <td>0</td>\n",
       "      <td>0</td>\n",
       "      <td>0</td>\n",
       "      <td>0</td>\n",
       "      <td>0</td>\n",
       "      <td>1</td>\n",
       "      <td>0</td>\n",
       "    </tr>\n",
       "    <tr>\n",
       "      <th>4</th>\n",
       "      <td>18.0</td>\n",
       "      <td>1</td>\n",
       "      <td>0</td>\n",
       "      <td>1</td>\n",
       "      <td>248000.0</td>\n",
       "      <td>0</td>\n",
       "      <td>0</td>\n",
       "      <td>0</td>\n",
       "      <td>0</td>\n",
       "      <td>1</td>\n",
       "      <td>...</td>\n",
       "      <td>0</td>\n",
       "      <td>0</td>\n",
       "      <td>0</td>\n",
       "      <td>0</td>\n",
       "      <td>0</td>\n",
       "      <td>1</td>\n",
       "      <td>0</td>\n",
       "      <td>0</td>\n",
       "      <td>0</td>\n",
       "      <td>0</td>\n",
       "    </tr>\n",
       "    <tr>\n",
       "      <th>...</th>\n",
       "      <td>...</td>\n",
       "      <td>...</td>\n",
       "      <td>...</td>\n",
       "      <td>...</td>\n",
       "      <td>...</td>\n",
       "      <td>...</td>\n",
       "      <td>...</td>\n",
       "      <td>...</td>\n",
       "      <td>...</td>\n",
       "      <td>...</td>\n",
       "      <td>...</td>\n",
       "      <td>...</td>\n",
       "      <td>...</td>\n",
       "      <td>...</td>\n",
       "      <td>...</td>\n",
       "      <td>...</td>\n",
       "      <td>...</td>\n",
       "      <td>...</td>\n",
       "      <td>...</td>\n",
       "      <td>...</td>\n",
       "      <td>...</td>\n",
       "    </tr>\n",
       "    <tr>\n",
       "      <th>124</th>\n",
       "      <td>8.5</td>\n",
       "      <td>1</td>\n",
       "      <td>1</td>\n",
       "      <td>1</td>\n",
       "      <td>39000.0</td>\n",
       "      <td>0</td>\n",
       "      <td>0</td>\n",
       "      <td>0</td>\n",
       "      <td>0</td>\n",
       "      <td>0</td>\n",
       "      <td>...</td>\n",
       "      <td>1</td>\n",
       "      <td>0</td>\n",
       "      <td>0</td>\n",
       "      <td>0</td>\n",
       "      <td>0</td>\n",
       "      <td>0</td>\n",
       "      <td>0</td>\n",
       "      <td>0</td>\n",
       "      <td>0</td>\n",
       "      <td>1</td>\n",
       "    </tr>\n",
       "    <tr>\n",
       "      <th>125</th>\n",
       "      <td>12.0</td>\n",
       "      <td>1</td>\n",
       "      <td>1</td>\n",
       "      <td>1</td>\n",
       "      <td>72000.0</td>\n",
       "      <td>0</td>\n",
       "      <td>0</td>\n",
       "      <td>0</td>\n",
       "      <td>0</td>\n",
       "      <td>0</td>\n",
       "      <td>...</td>\n",
       "      <td>1</td>\n",
       "      <td>0</td>\n",
       "      <td>0</td>\n",
       "      <td>0</td>\n",
       "      <td>0</td>\n",
       "      <td>0</td>\n",
       "      <td>0</td>\n",
       "      <td>1</td>\n",
       "      <td>0</td>\n",
       "      <td>0</td>\n",
       "    </tr>\n",
       "    <tr>\n",
       "      <th>126</th>\n",
       "      <td>14.0</td>\n",
       "      <td>1</td>\n",
       "      <td>1</td>\n",
       "      <td>1</td>\n",
       "      <td>99000.0</td>\n",
       "      <td>0</td>\n",
       "      <td>0</td>\n",
       "      <td>0</td>\n",
       "      <td>0</td>\n",
       "      <td>0</td>\n",
       "      <td>...</td>\n",
       "      <td>1</td>\n",
       "      <td>0</td>\n",
       "      <td>0</td>\n",
       "      <td>0</td>\n",
       "      <td>0</td>\n",
       "      <td>0</td>\n",
       "      <td>1</td>\n",
       "      <td>0</td>\n",
       "      <td>0</td>\n",
       "      <td>0</td>\n",
       "    </tr>\n",
       "    <tr>\n",
       "      <th>127</th>\n",
       "      <td>8.5</td>\n",
       "      <td>1</td>\n",
       "      <td>0</td>\n",
       "      <td>1</td>\n",
       "      <td>44000.0</td>\n",
       "      <td>0</td>\n",
       "      <td>0</td>\n",
       "      <td>0</td>\n",
       "      <td>1</td>\n",
       "      <td>0</td>\n",
       "      <td>...</td>\n",
       "      <td>0</td>\n",
       "      <td>0</td>\n",
       "      <td>0</td>\n",
       "      <td>0</td>\n",
       "      <td>0</td>\n",
       "      <td>0</td>\n",
       "      <td>0</td>\n",
       "      <td>0</td>\n",
       "      <td>0</td>\n",
       "      <td>1</td>\n",
       "    </tr>\n",
       "    <tr>\n",
       "      <th>128</th>\n",
       "      <td>12.0</td>\n",
       "      <td>0</td>\n",
       "      <td>0</td>\n",
       "      <td>1</td>\n",
       "      <td>78000.0</td>\n",
       "      <td>0</td>\n",
       "      <td>0</td>\n",
       "      <td>0</td>\n",
       "      <td>1</td>\n",
       "      <td>0</td>\n",
       "      <td>...</td>\n",
       "      <td>0</td>\n",
       "      <td>0</td>\n",
       "      <td>0</td>\n",
       "      <td>0</td>\n",
       "      <td>0</td>\n",
       "      <td>0</td>\n",
       "      <td>0</td>\n",
       "      <td>1</td>\n",
       "      <td>0</td>\n",
       "      <td>0</td>\n",
       "    </tr>\n",
       "  </tbody>\n",
       "</table>\n",
       "<p>129 rows × 43 columns</p>\n",
       "</div>"
      ],
      "text/plain": [
       "     diameter  extra_sauce  extra_cheese  extra_mushrooms  Pizza_price  \\\n",
       "0        22.0            1             1                0     235000.0   \n",
       "1        20.0            1             1                0     198000.0   \n",
       "2        16.0            1             1                1     120000.0   \n",
       "3        14.0            1             0                1     155000.0   \n",
       "4        18.0            1             0                1     248000.0   \n",
       "..        ...          ...           ...              ...          ...   \n",
       "124       8.5            1             1                1      39000.0   \n",
       "125      12.0            1             1                1      72000.0   \n",
       "126      14.0            1             1                1      99000.0   \n",
       "127       8.5            1             0                1      44000.0   \n",
       "128      12.0            0             0                1      78000.0   \n",
       "\n",
       "     topping_beef  topping_black_papper  topping_chicken  topping_meat  \\\n",
       "0               0                     0                1             0   \n",
       "1               0                     0                0             0   \n",
       "2               0                     0                0             0   \n",
       "3               0                     0                0             0   \n",
       "4               0                     0                0             0   \n",
       "..            ...                   ...              ...           ...   \n",
       "124             0                     0                0             0   \n",
       "125             0                     0                0             0   \n",
       "126             0                     0                0             0   \n",
       "127             0                     0                0             1   \n",
       "128             0                     0                0             1   \n",
       "\n",
       "     topping_mozzarella  ...  variant_spicy tuna  variant_spicy_tuna  \\\n",
       "0                     0  ...                   0                   0   \n",
       "1                     0  ...                   0                   0   \n",
       "2                     0  ...                   0                   0   \n",
       "3                     0  ...                   0                   0   \n",
       "4                     1  ...                   0                   0   \n",
       "..                  ...  ...                 ...                 ...   \n",
       "124                   0  ...                   1                   0   \n",
       "125                   0  ...                   1                   0   \n",
       "126                   0  ...                   1                   0   \n",
       "127                   0  ...                   0                   0   \n",
       "128                   0  ...                   0                   0   \n",
       "\n",
       "     variant_super_supreme  variant_thai_veggie  size_XL  size_jumbo  \\\n",
       "0                        0                    0        0           1   \n",
       "1                        0                    0        0           1   \n",
       "2                        0                    0        0           0   \n",
       "3                        0                    0        0           0   \n",
       "4                        0                    0        0           1   \n",
       "..                     ...                  ...      ...         ...   \n",
       "124                      0                    0        0           0   \n",
       "125                      0                    0        0           0   \n",
       "126                      0                    0        0           0   \n",
       "127                      0                    0        0           0   \n",
       "128                      0                    0        0           0   \n",
       "\n",
       "     size_large  size_medium  size_reguler  size_small  \n",
       "0             0            0             0           0  \n",
       "1             0            0             0           0  \n",
       "2             0            0             1           0  \n",
       "3             0            0             1           0  \n",
       "4             0            0             0           0  \n",
       "..          ...          ...           ...         ...  \n",
       "124           0            0             0           1  \n",
       "125           0            1             0           0  \n",
       "126           1            0             0           0  \n",
       "127           0            0             0           1  \n",
       "128           0            1             0           0  \n",
       "\n",
       "[129 rows x 43 columns]"
      ]
     },
     "execution_count": 26,
     "metadata": {},
     "output_type": "execute_result"
    }
   ],
   "source": [
    "# One hot encoding the respective columns\n",
    "\n",
    "\n",
    "one_hot_encoded_data = pd.get_dummies(pizza, columns = ['topping', 'variant', 'size'])\n",
    "one_hot_encoded_data"
   ]
  },
  {
   "cell_type": "markdown",
   "id": "2c9b8519",
   "metadata": {},
   "source": [
    "### Check for any null values using `df.isnull().sum()` and either remove the null values or fill them using standard techniques"
   ]
  },
  {
   "cell_type": "code",
   "execution_count": 27,
   "id": "f86aa875",
   "metadata": {},
   "outputs": [
    {
     "data": {
      "text/plain": [
       "diameter                     0\n",
       "extra_sauce                  0\n",
       "extra_cheese                 0\n",
       "extra_mushrooms              0\n",
       "Pizza_price                  0\n",
       "topping_beef                 0\n",
       "topping_black_papper         0\n",
       "topping_chicken              0\n",
       "topping_meat                 0\n",
       "topping_mozzarella           0\n",
       "topping_mushrooms            0\n",
       "topping_onion                0\n",
       "topping_papperoni            0\n",
       "topping_sausage              0\n",
       "topping_smoked_beef          0\n",
       "topping_tuna                 0\n",
       "topping_vegetables           0\n",
       "variant_BBQ_meat_fiesta      0\n",
       "variant_BBQ_sausage          0\n",
       "variant_american_classic     0\n",
       "variant_american_favorite    0\n",
       "variant_classic              0\n",
       "variant_crunchy              0\n",
       "variant_double_decker        0\n",
       "variant_double_mix           0\n",
       "variant_double_signature     0\n",
       "variant_extravaganza         0\n",
       "variant_gournet_greek        0\n",
       "variant_italian_veggie       0\n",
       "variant_meat_eater           0\n",
       "variant_meat_lovers          0\n",
       "variant_neptune_tuna         0\n",
       "variant_new_york             0\n",
       "variant_spicy tuna           0\n",
       "variant_spicy_tuna           0\n",
       "variant_super_supreme        0\n",
       "variant_thai_veggie          0\n",
       "size_XL                      0\n",
       "size_jumbo                   0\n",
       "size_large                   0\n",
       "size_medium                  0\n",
       "size_reguler                 0\n",
       "size_small                   0\n",
       "dtype: int64"
      ]
     },
     "execution_count": 27,
     "metadata": {},
     "output_type": "execute_result"
    }
   ],
   "source": [
    "one_hot_encoded_data.isnull().sum()"
   ]
  },
  {
   "cell_type": "markdown",
   "id": "e152d9bb",
   "metadata": {},
   "source": [
    "## Data Exploration and analysis using seaborn\n",
    "- Boxplot\n",
    "- Stripplot\n",
    "- Countplot\n",
    "- Heatmap"
   ]
  },
  {
   "cell_type": "code",
   "execution_count": 28,
   "id": "c36f430d",
   "metadata": {},
   "outputs": [
    {
     "data": {
      "text/plain": [
       "Index(['diameter', 'extra_sauce', 'extra_cheese', 'extra_mushrooms',\n",
       "       'Pizza_price', 'topping_beef', 'topping_black_papper',\n",
       "       'topping_chicken', 'topping_meat', 'topping_mozzarella',\n",
       "       'topping_mushrooms', 'topping_onion', 'topping_papperoni',\n",
       "       'topping_sausage', 'topping_smoked_beef', 'topping_tuna',\n",
       "       'topping_vegetables', 'variant_BBQ_meat_fiesta', 'variant_BBQ_sausage',\n",
       "       'variant_american_classic', 'variant_american_favorite',\n",
       "       'variant_classic', 'variant_crunchy', 'variant_double_decker',\n",
       "       'variant_double_mix', 'variant_double_signature',\n",
       "       'variant_extravaganza', 'variant_gournet_greek',\n",
       "       'variant_italian_veggie', 'variant_meat_eater', 'variant_meat_lovers',\n",
       "       'variant_neptune_tuna', 'variant_new_york', 'variant_spicy tuna',\n",
       "       'variant_spicy_tuna', 'variant_super_supreme', 'variant_thai_veggie',\n",
       "       'size_XL', 'size_jumbo', 'size_large', 'size_medium', 'size_reguler',\n",
       "       'size_small'],\n",
       "      dtype='object')"
      ]
     },
     "execution_count": 28,
     "metadata": {},
     "output_type": "execute_result"
    }
   ],
   "source": [
    "# Column names\n",
    "one_hot_encoded_data.columns"
   ]
  },
  {
   "cell_type": "code",
   "execution_count": 29,
   "id": "f1e3d968",
   "metadata": {},
   "outputs": [
    {
     "data": {
      "text/plain": [
       "(129, 43)"
      ]
     },
     "execution_count": 29,
     "metadata": {},
     "output_type": "execute_result"
    }
   ],
   "source": [
    "# Data Frame size\n",
    "\n",
    "one_hot_encoded_data.shape"
   ]
  },
  {
   "cell_type": "code",
   "execution_count": 38,
   "id": "c47601d1",
   "metadata": {},
   "outputs": [
    {
     "data": {
      "text/plain": [
       "<AxesSubplot:xlabel='size', ylabel='Pizza_price'>"
      ]
     },
     "execution_count": 38,
     "metadata": {},
     "output_type": "execute_result"
    },
    {
     "data": {
      "image/png": "[encoded data removed]",
      "text/plain": [
       "<Figure size 432x288 with 1 Axes>"
      ]
     },
     "metadata": {
      "needs_background": "light"
     },
     "output_type": "display_data"
    }
   ],
   "source": [
    "sns.boxplot(x='size', y='Pizza_price', data=pizza)"
   ]
  },
  {
   "cell_type": "code",
   "execution_count": 42,
   "id": "a3b886d4",
   "metadata": {},
   "outputs": [
    {
     "data": {
      "text/plain": [
       "<AxesSubplot:xlabel='variant', ylabel='Pizza_price'>"
      ]
     },
     "execution_count": 42,
     "metadata": {},
     "output_type": "execute_result"
    },
    {
     "data": {
      "image/png": "[encoded data removed]",
      "text/plain": [
       "<Figure size 2160x360 with 1 Axes>"
      ]
     },
     "metadata": {
      "needs_background": "light"
     },
     "output_type": "display_data"
    }
   ],
   "source": [
    "plt.figure(figsize=(30,5))\n",
    "sns.stripplot(x='variant', y='Pizza_price',data = pizza)"
   ]
  },
  {
   "cell_type": "code",
   "execution_count": 43,
   "id": "25704e56",
   "metadata": {},
   "outputs": [
    {
     "data": {
      "text/plain": [
       "<AxesSubplot:xlabel='size', ylabel='count'>"
      ]
     },
     "execution_count": 43,
     "metadata": {},
     "output_type": "execute_result"
    },
    {
     "data": {
      "image/png": "[encoded data removed]",
      "text/plain": [
       "<Figure size 432x288 with 1 Axes>"
      ]
     },
     "metadata": {
      "needs_background": "light"
     },
     "output_type": "display_data"
    }
   ],
   "source": [
    "sns.countplot(x='size', data=pizza)"
   ]
  },
  {
   "cell_type": "code",
   "execution_count": 44,
   "id": "d0bfa819",
   "metadata": {},
   "outputs": [],
   "source": [
    "corr_data = one_hot_encoded_data.corr()"
   ]
  },
  {
   "cell_type": "code",
   "execution_count": 46,
   "id": "17ad5d76",
   "metadata": {},
   "outputs": [
    {
     "data": {
      "text/plain": [
       "<AxesSubplot:>"
      ]
     },
     "execution_count": 46,
     "metadata": {},
     "output_type": "execute_result"
    },
    {
     "data": {
      "image/png": "[encoded data removed]",
      "text/plain": [
       "<Figure size 1440x720 with 2 Axes>"
      ]
     },
     "metadata": {
      "needs_background": "light"
     },
     "output_type": "display_data"
    }
   ],
   "source": [
    "plt.figure(figsize=(20,10))\n",
    "sns.heatmap(corr_data, cmap='magma')"
   ]
  },
  {
   "cell_type": "markdown",
   "id": "212b27ae",
   "metadata": {},
   "source": [
    "### From the above heatmap, we can see the correlation extent between the columns, which gives us a better understanding of the redundant features that can be eliminated in the future"
   ]
  },
  {
   "cell_type": "code",
   "execution_count": 95,
   "id": "a62c96ea",
   "metadata": {},
   "outputs": [
    {
     "data": {
      "text/plain": [
       "<AxesSubplot:xlabel='Pizza_price', ylabel='Density'>"
      ]
     },
     "execution_count": 95,
     "metadata": {},
     "output_type": "execute_result"
    },
    {
     "data": {
      "image/png": "[encoded data removed]",
      "text/plain": [
       "<Figure size 432x288 with 1 Axes>"
      ]
     },
     "metadata": {
      "needs_background": "light"
     },
     "output_type": "display_data"
    }
   ],
   "source": [
    "sns.kdeplot(x='Pizza_price', data= pizza)"
   ]
  },
  {
   "cell_type": "markdown",
   "id": "12e80ecd",
   "metadata": {},
   "source": [
    "## Building,training and evaluating the model using Linear Regression\n",
    "- Extract the target variable(dependent) and the features(independent)\n",
    "- Build the model\n",
    "- Fit the model with train data\n",
    "- Predict values with validation data\n",
    "- Evaluate the model"
   ]
  },
  {
   "cell_type": "code",
   "execution_count": 49,
   "id": "70954d85",
   "metadata": {},
   "outputs": [
    {
     "data": {
      "text/plain": [
       "0      235000.0\n",
       "1      198000.0\n",
       "2      120000.0\n",
       "3      155000.0\n",
       "4      248000.0\n",
       "         ...   \n",
       "124     39000.0\n",
       "125     72000.0\n",
       "126     99000.0\n",
       "127     44000.0\n",
       "128     78000.0\n",
       "Name: Pizza_price, Length: 129, dtype: float64"
      ]
     },
     "execution_count": 49,
     "metadata": {},
     "output_type": "execute_result"
    }
   ],
   "source": [
    "## Target Variable \n",
    "y = pizza['Pizza_price']\n",
    "y"
   ]
  },
  {
   "cell_type": "code",
   "execution_count": 48,
   "id": "5fa20b2f",
   "metadata": {},
   "outputs": [
    {
     "data": {
      "text/html": [
       "<div>\n",
       "<style scoped>\n",
       "    .dataframe tbody tr th:only-of-type {\n",
       "        vertical-align: middle;\n",
       "    }\n",
       "\n",
       "    .dataframe tbody tr th {\n",
       "        vertical-align: top;\n",
       "    }\n",
       "\n",
       "    .dataframe thead th {\n",
       "        text-align: right;\n",
       "    }\n",
       "</style>\n",
       "<table border=\"1\" class=\"dataframe\">\n",
       "  <thead>\n",
       "    <tr style=\"text-align: right;\">\n",
       "      <th></th>\n",
       "      <th>diameter</th>\n",
       "      <th>extra_sauce</th>\n",
       "      <th>extra_cheese</th>\n",
       "      <th>extra_mushrooms</th>\n",
       "      <th>topping_beef</th>\n",
       "      <th>topping_black_papper</th>\n",
       "      <th>topping_chicken</th>\n",
       "      <th>topping_meat</th>\n",
       "      <th>topping_mozzarella</th>\n",
       "      <th>topping_mushrooms</th>\n",
       "      <th>...</th>\n",
       "      <th>variant_spicy tuna</th>\n",
       "      <th>variant_spicy_tuna</th>\n",
       "      <th>variant_super_supreme</th>\n",
       "      <th>variant_thai_veggie</th>\n",
       "      <th>size_XL</th>\n",
       "      <th>size_jumbo</th>\n",
       "      <th>size_large</th>\n",
       "      <th>size_medium</th>\n",
       "      <th>size_reguler</th>\n",
       "      <th>size_small</th>\n",
       "    </tr>\n",
       "  </thead>\n",
       "  <tbody>\n",
       "    <tr>\n",
       "      <th>0</th>\n",
       "      <td>22.0</td>\n",
       "      <td>1</td>\n",
       "      <td>1</td>\n",
       "      <td>0</td>\n",
       "      <td>0</td>\n",
       "      <td>0</td>\n",
       "      <td>1</td>\n",
       "      <td>0</td>\n",
       "      <td>0</td>\n",
       "      <td>0</td>\n",
       "      <td>...</td>\n",
       "      <td>0</td>\n",
       "      <td>0</td>\n",
       "      <td>0</td>\n",
       "      <td>0</td>\n",
       "      <td>0</td>\n",
       "      <td>1</td>\n",
       "      <td>0</td>\n",
       "      <td>0</td>\n",
       "      <td>0</td>\n",
       "      <td>0</td>\n",
       "    </tr>\n",
       "    <tr>\n",
       "      <th>1</th>\n",
       "      <td>20.0</td>\n",
       "      <td>1</td>\n",
       "      <td>1</td>\n",
       "      <td>0</td>\n",
       "      <td>0</td>\n",
       "      <td>0</td>\n",
       "      <td>0</td>\n",
       "      <td>0</td>\n",
       "      <td>0</td>\n",
       "      <td>0</td>\n",
       "      <td>...</td>\n",
       "      <td>0</td>\n",
       "      <td>0</td>\n",
       "      <td>0</td>\n",
       "      <td>0</td>\n",
       "      <td>0</td>\n",
       "      <td>1</td>\n",
       "      <td>0</td>\n",
       "      <td>0</td>\n",
       "      <td>0</td>\n",
       "      <td>0</td>\n",
       "    </tr>\n",
       "    <tr>\n",
       "      <th>2</th>\n",
       "      <td>16.0</td>\n",
       "      <td>1</td>\n",
       "      <td>1</td>\n",
       "      <td>1</td>\n",
       "      <td>0</td>\n",
       "      <td>0</td>\n",
       "      <td>0</td>\n",
       "      <td>0</td>\n",
       "      <td>0</td>\n",
       "      <td>1</td>\n",
       "      <td>...</td>\n",
       "      <td>0</td>\n",
       "      <td>0</td>\n",
       "      <td>0</td>\n",
       "      <td>0</td>\n",
       "      <td>0</td>\n",
       "      <td>0</td>\n",
       "      <td>0</td>\n",
       "      <td>0</td>\n",
       "      <td>1</td>\n",
       "      <td>0</td>\n",
       "    </tr>\n",
       "    <tr>\n",
       "      <th>3</th>\n",
       "      <td>14.0</td>\n",
       "      <td>1</td>\n",
       "      <td>0</td>\n",
       "      <td>1</td>\n",
       "      <td>0</td>\n",
       "      <td>0</td>\n",
       "      <td>0</td>\n",
       "      <td>0</td>\n",
       "      <td>0</td>\n",
       "      <td>0</td>\n",
       "      <td>...</td>\n",
       "      <td>0</td>\n",
       "      <td>0</td>\n",
       "      <td>0</td>\n",
       "      <td>0</td>\n",
       "      <td>0</td>\n",
       "      <td>0</td>\n",
       "      <td>0</td>\n",
       "      <td>0</td>\n",
       "      <td>1</td>\n",
       "      <td>0</td>\n",
       "    </tr>\n",
       "    <tr>\n",
       "      <th>4</th>\n",
       "      <td>18.0</td>\n",
       "      <td>1</td>\n",
       "      <td>0</td>\n",
       "      <td>1</td>\n",
       "      <td>0</td>\n",
       "      <td>0</td>\n",
       "      <td>0</td>\n",
       "      <td>0</td>\n",
       "      <td>1</td>\n",
       "      <td>0</td>\n",
       "      <td>...</td>\n",
       "      <td>0</td>\n",
       "      <td>0</td>\n",
       "      <td>0</td>\n",
       "      <td>0</td>\n",
       "      <td>0</td>\n",
       "      <td>1</td>\n",
       "      <td>0</td>\n",
       "      <td>0</td>\n",
       "      <td>0</td>\n",
       "      <td>0</td>\n",
       "    </tr>\n",
       "    <tr>\n",
       "      <th>...</th>\n",
       "      <td>...</td>\n",
       "      <td>...</td>\n",
       "      <td>...</td>\n",
       "      <td>...</td>\n",
       "      <td>...</td>\n",
       "      <td>...</td>\n",
       "      <td>...</td>\n",
       "      <td>...</td>\n",
       "      <td>...</td>\n",
       "      <td>...</td>\n",
       "      <td>...</td>\n",
       "      <td>...</td>\n",
       "      <td>...</td>\n",
       "      <td>...</td>\n",
       "      <td>...</td>\n",
       "      <td>...</td>\n",
       "      <td>...</td>\n",
       "      <td>...</td>\n",
       "      <td>...</td>\n",
       "      <td>...</td>\n",
       "      <td>...</td>\n",
       "    </tr>\n",
       "    <tr>\n",
       "      <th>124</th>\n",
       "      <td>8.5</td>\n",
       "      <td>1</td>\n",
       "      <td>1</td>\n",
       "      <td>1</td>\n",
       "      <td>0</td>\n",
       "      <td>0</td>\n",
       "      <td>0</td>\n",
       "      <td>0</td>\n",
       "      <td>0</td>\n",
       "      <td>0</td>\n",
       "      <td>...</td>\n",
       "      <td>1</td>\n",
       "      <td>0</td>\n",
       "      <td>0</td>\n",
       "      <td>0</td>\n",
       "      <td>0</td>\n",
       "      <td>0</td>\n",
       "      <td>0</td>\n",
       "      <td>0</td>\n",
       "      <td>0</td>\n",
       "      <td>1</td>\n",
       "    </tr>\n",
       "    <tr>\n",
       "      <th>125</th>\n",
       "      <td>12.0</td>\n",
       "      <td>1</td>\n",
       "      <td>1</td>\n",
       "      <td>1</td>\n",
       "      <td>0</td>\n",
       "      <td>0</td>\n",
       "      <td>0</td>\n",
       "      <td>0</td>\n",
       "      <td>0</td>\n",
       "      <td>0</td>\n",
       "      <td>...</td>\n",
       "      <td>1</td>\n",
       "      <td>0</td>\n",
       "      <td>0</td>\n",
       "      <td>0</td>\n",
       "      <td>0</td>\n",
       "      <td>0</td>\n",
       "      <td>0</td>\n",
       "      <td>1</td>\n",
       "      <td>0</td>\n",
       "      <td>0</td>\n",
       "    </tr>\n",
       "    <tr>\n",
       "      <th>126</th>\n",
       "      <td>14.0</td>\n",
       "      <td>1</td>\n",
       "      <td>1</td>\n",
       "      <td>1</td>\n",
       "      <td>0</td>\n",
       "      <td>0</td>\n",
       "      <td>0</td>\n",
       "      <td>0</td>\n",
       "      <td>0</td>\n",
       "      <td>0</td>\n",
       "      <td>...</td>\n",
       "      <td>1</td>\n",
       "      <td>0</td>\n",
       "      <td>0</td>\n",
       "      <td>0</td>\n",
       "      <td>0</td>\n",
       "      <td>0</td>\n",
       "      <td>1</td>\n",
       "      <td>0</td>\n",
       "      <td>0</td>\n",
       "      <td>0</td>\n",
       "    </tr>\n",
       "    <tr>\n",
       "      <th>127</th>\n",
       "      <td>8.5</td>\n",
       "      <td>1</td>\n",
       "      <td>0</td>\n",
       "      <td>1</td>\n",
       "      <td>0</td>\n",
       "      <td>0</td>\n",
       "      <td>0</td>\n",
       "      <td>1</td>\n",
       "      <td>0</td>\n",
       "      <td>0</td>\n",
       "      <td>...</td>\n",
       "      <td>0</td>\n",
       "      <td>0</td>\n",
       "      <td>0</td>\n",
       "      <td>0</td>\n",
       "      <td>0</td>\n",
       "      <td>0</td>\n",
       "      <td>0</td>\n",
       "      <td>0</td>\n",
       "      <td>0</td>\n",
       "      <td>1</td>\n",
       "    </tr>\n",
       "    <tr>\n",
       "      <th>128</th>\n",
       "      <td>12.0</td>\n",
       "      <td>0</td>\n",
       "      <td>0</td>\n",
       "      <td>1</td>\n",
       "      <td>0</td>\n",
       "      <td>0</td>\n",
       "      <td>0</td>\n",
       "      <td>1</td>\n",
       "      <td>0</td>\n",
       "      <td>0</td>\n",
       "      <td>...</td>\n",
       "      <td>0</td>\n",
       "      <td>0</td>\n",
       "      <td>0</td>\n",
       "      <td>0</td>\n",
       "      <td>0</td>\n",
       "      <td>0</td>\n",
       "      <td>0</td>\n",
       "      <td>1</td>\n",
       "      <td>0</td>\n",
       "      <td>0</td>\n",
       "    </tr>\n",
       "  </tbody>\n",
       "</table>\n",
       "<p>129 rows × 42 columns</p>\n",
       "</div>"
      ],
      "text/plain": [
       "     diameter  extra_sauce  extra_cheese  extra_mushrooms  topping_beef  \\\n",
       "0        22.0            1             1                0             0   \n",
       "1        20.0            1             1                0             0   \n",
       "2        16.0            1             1                1             0   \n",
       "3        14.0            1             0                1             0   \n",
       "4        18.0            1             0                1             0   \n",
       "..        ...          ...           ...              ...           ...   \n",
       "124       8.5            1             1                1             0   \n",
       "125      12.0            1             1                1             0   \n",
       "126      14.0            1             1                1             0   \n",
       "127       8.5            1             0                1             0   \n",
       "128      12.0            0             0                1             0   \n",
       "\n",
       "     topping_black_papper  topping_chicken  topping_meat  topping_mozzarella  \\\n",
       "0                       0                1             0                   0   \n",
       "1                       0                0             0                   0   \n",
       "2                       0                0             0                   0   \n",
       "3                       0                0             0                   0   \n",
       "4                       0                0             0                   1   \n",
       "..                    ...              ...           ...                 ...   \n",
       "124                     0                0             0                   0   \n",
       "125                     0                0             0                   0   \n",
       "126                     0                0             0                   0   \n",
       "127                     0                0             1                   0   \n",
       "128                     0                0             1                   0   \n",
       "\n",
       "     topping_mushrooms  ...  variant_spicy tuna  variant_spicy_tuna  \\\n",
       "0                    0  ...                   0                   0   \n",
       "1                    0  ...                   0                   0   \n",
       "2                    1  ...                   0                   0   \n",
       "3                    0  ...                   0                   0   \n",
       "4                    0  ...                   0                   0   \n",
       "..                 ...  ...                 ...                 ...   \n",
       "124                  0  ...                   1                   0   \n",
       "125                  0  ...                   1                   0   \n",
       "126                  0  ...                   1                   0   \n",
       "127                  0  ...                   0                   0   \n",
       "128                  0  ...                   0                   0   \n",
       "\n",
       "     variant_super_supreme  variant_thai_veggie  size_XL  size_jumbo  \\\n",
       "0                        0                    0        0           1   \n",
       "1                        0                    0        0           1   \n",
       "2                        0                    0        0           0   \n",
       "3                        0                    0        0           0   \n",
       "4                        0                    0        0           1   \n",
       "..                     ...                  ...      ...         ...   \n",
       "124                      0                    0        0           0   \n",
       "125                      0                    0        0           0   \n",
       "126                      0                    0        0           0   \n",
       "127                      0                    0        0           0   \n",
       "128                      0                    0        0           0   \n",
       "\n",
       "     size_large  size_medium  size_reguler  size_small  \n",
       "0             0            0             0           0  \n",
       "1             0            0             0           0  \n",
       "2             0            0             1           0  \n",
       "3             0            0             1           0  \n",
       "4             0            0             0           0  \n",
       "..          ...          ...           ...         ...  \n",
       "124           0            0             0           1  \n",
       "125           0            1             0           0  \n",
       "126           1            0             0           0  \n",
       "127           0            0             0           1  \n",
       "128           0            1             0           0  \n",
       "\n",
       "[129 rows x 42 columns]"
      ]
     },
     "execution_count": 48,
     "metadata": {},
     "output_type": "execute_result"
    }
   ],
   "source": [
    "# Feature variable\n",
    "X = one_hot_encoded_data.drop(['Pizza_price'], axis=1)\n",
    "X"
   ]
  },
  {
   "cell_type": "markdown",
   "id": "f8abe701",
   "metadata": {},
   "source": [
    "## Building our first model using Linear Regression"
   ]
  },
  {
   "cell_type": "code",
   "execution_count": 50,
   "id": "288bf84d",
   "metadata": {},
   "outputs": [],
   "source": [
    "from sklearn.model_selection import train_test_split"
   ]
  },
  {
   "cell_type": "code",
   "execution_count": 51,
   "id": "d58e46b7",
   "metadata": {},
   "outputs": [],
   "source": [
    "X_train, X_test, y_train, y_test = train_test_split(X, y, test_size=0.33, random_state=42)"
   ]
  },
  {
   "cell_type": "code",
   "execution_count": 54,
   "id": "70c0e340",
   "metadata": {},
   "outputs": [],
   "source": [
    "model_linear = LinearRegression()"
   ]
  },
  {
   "cell_type": "code",
   "execution_count": 55,
   "id": "fb38881c",
   "metadata": {},
   "outputs": [
    {
     "data": {
      "text/plain": [
       "LinearRegression()"
      ]
     },
     "execution_count": 55,
     "metadata": {},
     "output_type": "execute_result"
    }
   ],
   "source": [
    "model_linear.fit(X_train, y_train)"
   ]
  },
  {
   "cell_type": "code",
   "execution_count": 56,
   "id": "94f4b21e",
   "metadata": {},
   "outputs": [],
   "source": [
    "## Predicting the pizza prices\n",
    "y_pred = model_linear.predict(X_test)"
   ]
  },
  {
   "cell_type": "code",
   "execution_count": 76,
   "id": "bd40e8e9",
   "metadata": {},
   "outputs": [
    {
     "data": {
      "text/html": [
       "<div>\n",
       "<style scoped>\n",
       "    .dataframe tbody tr th:only-of-type {\n",
       "        vertical-align: middle;\n",
       "    }\n",
       "\n",
       "    .dataframe tbody tr th {\n",
       "        vertical-align: top;\n",
       "    }\n",
       "\n",
       "    .dataframe thead th {\n",
       "        text-align: right;\n",
       "    }\n",
       "</style>\n",
       "<table border=\"1\" class=\"dataframe\">\n",
       "  <thead>\n",
       "    <tr style=\"text-align: right;\">\n",
       "      <th></th>\n",
       "      <th>Actual</th>\n",
       "      <th>Predicted</th>\n",
       "    </tr>\n",
       "  </thead>\n",
       "  <tbody>\n",
       "    <tr>\n",
       "      <th>55</th>\n",
       "      <td>39000.0</td>\n",
       "      <td>36575.000</td>\n",
       "    </tr>\n",
       "    <tr>\n",
       "      <th>40</th>\n",
       "      <td>76000.0</td>\n",
       "      <td>61303.125</td>\n",
       "    </tr>\n",
       "    <tr>\n",
       "      <th>19</th>\n",
       "      <td>90000.0</td>\n",
       "      <td>84612.500</td>\n",
       "    </tr>\n",
       "    <tr>\n",
       "      <th>31</th>\n",
       "      <td>31000.0</td>\n",
       "      <td>34271.875</td>\n",
       "    </tr>\n",
       "    <tr>\n",
       "      <th>114</th>\n",
       "      <td>72000.0</td>\n",
       "      <td>75606.250</td>\n",
       "    </tr>\n",
       "  </tbody>\n",
       "</table>\n",
       "</div>"
      ],
      "text/plain": [
       "      Actual  Predicted\n",
       "55   39000.0  36575.000\n",
       "40   76000.0  61303.125\n",
       "19   90000.0  84612.500\n",
       "31   31000.0  34271.875\n",
       "114  72000.0  75606.250"
      ]
     },
     "execution_count": 76,
     "metadata": {},
     "output_type": "execute_result"
    }
   ],
   "source": [
    "compare_linear = pd.DataFrame({'Actual': y_test, 'Predicted': y_pred})\n",
    "compare_linear.head() "
   ]
  },
  {
   "cell_type": "code",
   "execution_count": 77,
   "id": "f0f8a836",
   "metadata": {},
   "outputs": [
    {
     "name": "stdout",
     "output_type": "stream",
     "text": [
      "The R2 score of the Linear Regression model is = 85.65917753148246\n"
     ]
    }
   ],
   "source": [
    "## R2 score to evaluate the accuracy of the Linear Regression Model\n",
    "score = model.score(X_test, y_test)*100\n",
    "print(f'The R2 score of the Linear Regression model is = {score}')\n"
   ]
  },
  {
   "cell_type": "markdown",
   "id": "11afd191",
   "metadata": {},
   "source": [
    "### The MAE, MSE and RMSE values for the linear regression model is"
   ]
  },
  {
   "cell_type": "code",
   "execution_count": 78,
   "id": "817bea78",
   "metadata": {},
   "outputs": [
    {
     "name": "stdout",
     "output_type": "stream",
     "text": [
      "Mean Absolute Error:  9335.537790697674\n",
      "Mean Squared Error:  285780940.45239824\n",
      "Root Mean Squared Error:  16905.056653333\n"
     ]
    }
   ],
   "source": [
    "from sklearn import metrics\n",
    "print('Mean Absolute Error: ', metrics.mean_absolute_error(y_test, y_pred))\n",
    "print('Mean Squared Error: ',metrics.mean_squared_error(y_test, y_pred))\n",
    "print('Root Mean Squared Error: ',np.sqrt(metrics.mean_squared_error(y_test, y_pred)))"
   ]
  },
  {
   "cell_type": "code",
   "execution_count": 79,
   "id": "1bc58387",
   "metadata": {},
   "outputs": [
    {
     "name": "stderr",
     "output_type": "stream",
     "text": [
      "d:\\python sdk files\\lib\\site-packages\\seaborn\\distributions.py:2557: FutureWarning: `distplot` is a deprecated function and will be removed in a future version. Please adapt your code to use either `displot` (a figure-level function with similar flexibility) or `histplot` (an axes-level function for histograms).\n",
      "  warnings.warn(msg, FutureWarning)\n"
     ]
    },
    {
     "data": {
      "text/plain": [
       "<AxesSubplot:xlabel='Pizza_price', ylabel='Density'>"
      ]
     },
     "execution_count": 79,
     "metadata": {},
     "output_type": "execute_result"
    },
    {
     "data": {
      "image/png": "[encoded data removed]",
      "text/plain": [
       "<Figure size 432x288 with 1 Axes>"
      ]
     },
     "metadata": {
      "needs_background": "light"
     },
     "output_type": "display_data"
    }
   ],
   "source": [
    "sns.distplot((y_test-model.predict(X_test)))"
   ]
  },
  {
   "cell_type": "code",
   "execution_count": 80,
   "id": "dcec5b6d",
   "metadata": {},
   "outputs": [
    {
     "data": {
      "text/plain": [
       "array([  6907.14241293,   4907.25187129,   1815.07713395,   3914.06497664,\n",
       "        -6465.37927217,    994.03564949,  -5213.9437497 ,  -3517.89679677,\n",
       "        -4238.31863761,   3435.09018369,  -2128.14177685,  19825.82515839,\n",
       "         2190.30696272,   5722.77985534,  -9170.11906653,  -1434.23851   ,\n",
       "         6405.3537592 ,   2190.30696272,  -6465.37927217, -12399.20558208,\n",
       "       -15134.06667815,  -9940.89351397,  32598.19545797,  26850.30608372,\n",
       "        16149.59005148, -11159.33561695,  13629.92956938, -15945.9870125 ,\n",
       "        -9923.25055597,  -6201.89770947, -13610.06554148,  -5817.93071805,\n",
       "         4348.99642006,     90.9500549 ,   3452.56490825,    881.81893313,\n",
       "        -5817.93071805,  20737.6802142 ,   -250.7977994 , -12675.67352561,\n",
       "         7113.6775377 ,  -9106.95570884])"
      ]
     },
     "execution_count": 80,
     "metadata": {},
     "output_type": "execute_result"
    }
   ],
   "source": [
    "model.coef_"
   ]
  },
  {
   "cell_type": "code",
   "execution_count": 81,
   "id": "1e249428",
   "metadata": {},
   "outputs": [
    {
     "data": {
      "text/plain": [
       "-3644.887040973088"
      ]
     },
     "execution_count": 81,
     "metadata": {},
     "output_type": "execute_result"
    }
   ],
   "source": [
    "model.intercept_"
   ]
  },
  {
   "cell_type": "markdown",
   "id": "e72ceb7f",
   "metadata": {},
   "source": [
    "### Building a Random Forest Classifier for predicting the pizza price"
   ]
  },
  {
   "cell_type": "code",
   "execution_count": 74,
   "id": "8fe80125",
   "metadata": {},
   "outputs": [
    {
     "data": {
      "text/html": [
       "<div>\n",
       "<style scoped>\n",
       "    .dataframe tbody tr th:only-of-type {\n",
       "        vertical-align: middle;\n",
       "    }\n",
       "\n",
       "    .dataframe tbody tr th {\n",
       "        vertical-align: top;\n",
       "    }\n",
       "\n",
       "    .dataframe thead th {\n",
       "        text-align: right;\n",
       "    }\n",
       "</style>\n",
       "<table border=\"1\" class=\"dataframe\">\n",
       "  <thead>\n",
       "    <tr style=\"text-align: right;\">\n",
       "      <th></th>\n",
       "      <th>Actual</th>\n",
       "      <th>Predicted</th>\n",
       "    </tr>\n",
       "  </thead>\n",
       "  <tbody>\n",
       "    <tr>\n",
       "      <th>55</th>\n",
       "      <td>39000.0</td>\n",
       "      <td>36575.000</td>\n",
       "    </tr>\n",
       "    <tr>\n",
       "      <th>40</th>\n",
       "      <td>76000.0</td>\n",
       "      <td>61303.125</td>\n",
       "    </tr>\n",
       "    <tr>\n",
       "      <th>19</th>\n",
       "      <td>90000.0</td>\n",
       "      <td>84612.500</td>\n",
       "    </tr>\n",
       "    <tr>\n",
       "      <th>31</th>\n",
       "      <td>31000.0</td>\n",
       "      <td>34271.875</td>\n",
       "    </tr>\n",
       "    <tr>\n",
       "      <th>114</th>\n",
       "      <td>72000.0</td>\n",
       "      <td>75606.250</td>\n",
       "    </tr>\n",
       "  </tbody>\n",
       "</table>\n",
       "</div>"
      ],
      "text/plain": [
       "      Actual  Predicted\n",
       "55   39000.0  36575.000\n",
       "40   76000.0  61303.125\n",
       "19   90000.0  84612.500\n",
       "31   31000.0  34271.875\n",
       "114  72000.0  75606.250"
      ]
     },
     "execution_count": 74,
     "metadata": {},
     "output_type": "execute_result"
    }
   ],
   "source": [
    "from sklearn.ensemble import RandomForestRegressor\n",
    "\n",
    "model_rf = RandomForestRegressor(n_estimators=160)\n",
    "model_rf.fit(X_train,y_train)\n",
    "y_pred = model_rf.predict(X_test)\n",
    "compare_randomforest = pd.DataFrame({'Actual': y_test, 'Predicted': y_pred})\n",
    "compare_randomforest.head()"
   ]
  },
  {
   "cell_type": "markdown",
   "id": "d5e65d69",
   "metadata": {},
   "source": [
    "#### Evaluating the Random Forest Model"
   ]
  },
  {
   "cell_type": "code",
   "execution_count": 75,
   "id": "05f16d0a",
   "metadata": {},
   "outputs": [
    {
     "name": "stdout",
     "output_type": "stream",
     "text": [
      "The R2 score of the Random Forest model is = 89.91795101099287\n"
     ]
    }
   ],
   "source": [
    "## R2 score to evaluate the accuracy of the Linear Regression Model\n",
    "score2 = model_rf.score(X_test, y_test)*100\n",
    "print(f'The R2 score of the Random Forest model is = {score2}')"
   ]
  },
  {
   "cell_type": "markdown",
   "id": "d1631847",
   "metadata": {},
   "source": [
    "## Comparing the Linear Regression Model and Random Forest Classifier"
   ]
  },
  {
   "cell_type": "code",
   "execution_count": 83,
   "id": "81338d5d",
   "metadata": {},
   "outputs": [
    {
     "data": {
      "text/plain": [
       "<AxesSubplot:title={'center':'Random Forest'}>"
      ]
     },
     "execution_count": 83,
     "metadata": {},
     "output_type": "execute_result"
    },
    {
     "data": {
      "image/png": "[encoded data removed]",
      "text/plain": [
       "<Figure size 1440x360 with 2 Axes>"
      ]
     },
     "metadata": {
      "needs_background": "light"
     },
     "output_type": "display_data"
    }
   ],
   "source": [
    "fig, ax = plt.subplots(ncols=2, nrows=1, figsize=(20, 5))\n",
    "ax = ax.flatten()\n",
    "compare_linear.head(10).plot(kind='bar', title='Linear Regression', grid=True, ax=ax[0])\n",
    "compare_randomforest.head(10).plot(kind='bar', title='Random Forest', grid=True, ax=ax[1])"
   ]
  },
  {
   "cell_type": "code",
   "execution_count": 84,
   "id": "50be5b1b",
   "metadata": {},
   "outputs": [
    {
     "data": {
      "text/html": [
       "<div>\n",
       "<style scoped>\n",
       "    .dataframe tbody tr th:only-of-type {\n",
       "        vertical-align: middle;\n",
       "    }\n",
       "\n",
       "    .dataframe tbody tr th {\n",
       "        vertical-align: top;\n",
       "    }\n",
       "\n",
       "    .dataframe thead th {\n",
       "        text-align: right;\n",
       "    }\n",
       "</style>\n",
       "<table border=\"1\" class=\"dataframe\">\n",
       "  <thead>\n",
       "    <tr style=\"text-align: right;\">\n",
       "      <th></th>\n",
       "      <th>Model Name</th>\n",
       "      <th>R2 score</th>\n",
       "    </tr>\n",
       "  </thead>\n",
       "  <tbody>\n",
       "    <tr>\n",
       "      <th>0</th>\n",
       "      <td>Linear Regression</td>\n",
       "      <td>85.659178</td>\n",
       "    </tr>\n",
       "    <tr>\n",
       "      <th>1</th>\n",
       "      <td>Random Forest</td>\n",
       "      <td>89.917951</td>\n",
       "    </tr>\n",
       "  </tbody>\n",
       "</table>\n",
       "</div>"
      ],
      "text/plain": [
       "          Model Name   R2 score\n",
       "0  Linear Regression  85.659178\n",
       "1      Random Forest  89.917951"
      ]
     },
     "execution_count": 84,
     "metadata": {},
     "output_type": "execute_result"
    }
   ],
   "source": [
    "## Comparing the R2 score of the 2 models\n",
    "\n",
    "models = pd.DataFrame({'Model Name':['Linear Regression', 'Random Forest'], 'R2 score': [score, score2]})\n",
    "models"
   ]
  },
  {
   "cell_type": "code",
   "execution_count": 97,
   "id": "2f6e4a6d",
   "metadata": {},
   "outputs": [
    {
     "data": {
      "text/plain": [
       "<AxesSubplot:title={'center':'Comaprison of R2 Scores of 2 different models'}, xlabel='Model Name', ylabel='R2 score'>"
      ]
     },
     "execution_count": 97,
     "metadata": {},
     "output_type": "execute_result"
    },
    {
     "data": {
      "image/png": "[encoded data removed]",
      "text/plain": [
       "<Figure size 576x360 with 1 Axes>"
      ]
     },
     "metadata": {
      "needs_background": "light"
     },
     "output_type": "display_data"
    }
   ],
   "source": [
    "plt.figure(figsize=(8,5))\n",
    "plt.title('Comaprison of R2 Scores of 2 different models')\n",
    "sns.barplot(x='Model Name', y='R2 score', data=models,palette='viridis' )"
   ]
  },
  {
   "cell_type": "markdown",
   "id": "28903795",
   "metadata": {},
   "source": [
    "##### Thus we can conclude that Random Forest Classifier(0.89) is more accurate than our Linear Regression Model(0.85)"
   ]
  }
 ],
 "metadata": {
  "kernelspec": {
   "display_name": "Python 3",
   "language": "python",
   "name": "python3"
  },
  "language_info": {
   "codemirror_mode": {
    "name": "ipython",
    "version": 3
   },
   "file_extension": ".py",
   "mimetype": "text/x-python",
   "name": "python",
   "nbconvert_exporter": "python",
   "pygments_lexer": "ipython3",
   "version": "3.9.2"
  }
 },
 "nbformat": 4,
 "nbformat_minor": 5
}
